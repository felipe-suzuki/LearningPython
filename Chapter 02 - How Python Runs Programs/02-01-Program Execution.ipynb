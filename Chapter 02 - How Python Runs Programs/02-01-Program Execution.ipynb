{
 "cells": [
  {
   "cell_type": "markdown",
   "id": "723825a8",
   "metadata": {},
   "source": [
    "### The Programmer’s View"
   ]
  },
  {
   "cell_type": "code",
   "execution_count": 1,
   "id": "bd306ad4",
   "metadata": {},
   "outputs": [
    {
     "name": "stdout",
     "output_type": "stream",
     "text": [
      "hello world\n",
      "1267650600228229401496703205376\n"
     ]
    }
   ],
   "source": [
    "#One of the simplest Python scripts:\n",
    "\n",
    "print('hello world')\n",
    "print(2 ** 100)\n",
    "\n",
    "#This code contains two Python print statements, which simply print a string"
   ]
  },
  {
   "cell_type": "markdown",
   "id": "ae44249a",
   "metadata": {},
   "source": [
    "### Python’s View\n",
    "\n",
    "When you instruct Python to run your script, there are a few steps that Python carries\n",
    "out before your code actually starts crunching away.\n",
    "\n",
    "#### Byte code compilation\n",
    "\n",
    "When you execute a program Python first compiles your source code into a format known\n",
    "as byte code, which is a lower-level, platform-independent representation of your source code.\n",
    "\n",
    "#### The Python Virtual Machine (PVM)\n",
    "\n",
    "The byte code is shipped off for execution to something generally known as the Python Virtual Machine.\n",
    "PVM is just a big code loop that iterates through your byte code instructions, one by one,\n",
    "to carry out their operations."
   ]
  }
 ],
 "metadata": {
  "kernelspec": {
   "display_name": "Python 3 (ipykernel)",
   "language": "python",
   "name": "python3"
  },
  "language_info": {
   "codemirror_mode": {
    "name": "ipython",
    "version": 3
   },
   "file_extension": ".py",
   "mimetype": "text/x-python",
   "name": "python",
   "nbconvert_exporter": "python",
   "pygments_lexer": "ipython3",
   "version": "3.9.7"
  }
 },
 "nbformat": 4,
 "nbformat_minor": 5
}
