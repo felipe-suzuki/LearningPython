{
 "cells": [
  {
   "cell_type": "markdown",
   "id": "bf07545c",
   "metadata": {},
   "source": [
    "## Binary Bytes Files\n",
    "\n",
    "As hinted when we met strings earlier, Python 3.X draws a sharp distinction between\n",
    "text and binary data in files: text files represent content as normal str strings and perform\n",
    "Unicode encoding and decoding automatically when writing and reading data,\n",
    "while binary files represent content as a special bytes string and allow you to access file\n",
    "content unaltered."
   ]
  },
  {
   "cell_type": "markdown",
   "id": "95319760",
   "metadata": {},
   "source": [
    "To illustrate, Python’ struct\n",
    "module can both create and unpack\n",
    "packed binary data—raw bytes that record values that are not Python objects—to be\n",
    "written to a file in binary mode."
   ]
  },
  {
   "cell_type": "code",
   "execution_count": 2,
   "id": "b19bc8c0",
   "metadata": {},
   "outputs": [],
   "source": [
    "import struct\n",
    "packed = struct.pack('>i4sh', 7, b'spam', 8) # Create packed binary data"
   ]
  },
  {
   "cell_type": "code",
   "execution_count": 3,
   "id": "f5776f66",
   "metadata": {},
   "outputs": [
    {
     "data": {
      "text/plain": [
       "b'\\x00\\x00\\x00\\x07spam\\x00\\x08'"
      ]
     },
     "execution_count": 3,
     "metadata": {},
     "output_type": "execute_result"
    }
   ],
   "source": [
    "packed # 10 bytes, not objects or text"
   ]
  },
  {
   "cell_type": "code",
   "execution_count": 4,
   "id": "37dda2f1",
   "metadata": {},
   "outputs": [],
   "source": [
    "file = open('data.bin', 'wb') # Open binary output file"
   ]
  },
  {
   "cell_type": "code",
   "execution_count": 5,
   "id": "bcbc3b67",
   "metadata": {},
   "outputs": [
    {
     "data": {
      "text/plain": [
       "10"
      ]
     },
     "execution_count": 5,
     "metadata": {},
     "output_type": "execute_result"
    }
   ],
   "source": [
    "file.write(packed) # Write packed binary data"
   ]
  },
  {
   "cell_type": "code",
   "execution_count": 6,
   "id": "49b0693f",
   "metadata": {},
   "outputs": [],
   "source": [
    "file.close()"
   ]
  },
  {
   "cell_type": "code",
   "execution_count": 8,
   "id": "e78811c0",
   "metadata": {},
   "outputs": [],
   "source": [
    "# Reading binary data back is essentially symmetric; not all programs need to tread so\n",
    "# deeply into the low-level realm of bytes, but binary files make this easy in Python:\n",
    "\n",
    "data = open('data.bin', 'rb').read() # Open/read binary data file"
   ]
  },
  {
   "cell_type": "code",
   "execution_count": 9,
   "id": "c54e6cc4",
   "metadata": {},
   "outputs": [
    {
     "data": {
      "text/plain": [
       "b'\\x00\\x00\\x00\\x07spam\\x00\\x08'"
      ]
     },
     "execution_count": 9,
     "metadata": {},
     "output_type": "execute_result"
    }
   ],
   "source": [
    "data # 10 bytes, unaltered"
   ]
  },
  {
   "cell_type": "code",
   "execution_count": 10,
   "id": "7967e95e",
   "metadata": {},
   "outputs": [
    {
     "data": {
      "text/plain": [
       "b'spam'"
      ]
     },
     "execution_count": 10,
     "metadata": {},
     "output_type": "execute_result"
    }
   ],
   "source": [
    "data[4:8] # Slice bytes in the middle"
   ]
  },
  {
   "cell_type": "code",
   "execution_count": 11,
   "id": "6ccc2ae7",
   "metadata": {},
   "outputs": [
    {
     "data": {
      "text/plain": [
       "[0, 0, 0, 7, 115, 112, 97, 109, 0, 8]"
      ]
     },
     "execution_count": 11,
     "metadata": {},
     "output_type": "execute_result"
    }
   ],
   "source": [
    "list(data) # A sequence of 8-bit bytes"
   ]
  },
  {
   "cell_type": "code",
   "execution_count": 12,
   "id": "d2e4bf47",
   "metadata": {},
   "outputs": [
    {
     "data": {
      "text/plain": [
       "(7, b'spam', 8)"
      ]
     },
     "execution_count": 12,
     "metadata": {},
     "output_type": "execute_result"
    }
   ],
   "source": [
    "struct.unpack('>i4sh', data) # Unpack into objects again"
   ]
  },
  {
   "cell_type": "markdown",
   "id": "4f2783de",
   "metadata": {},
   "source": [
    "## Unicode Text Files\n",
    "\n",
    "To access files containing non-ASCII Unicode\n",
    "text of the sort introduced earlier in this chapter, we simply pass in an encoding name\n",
    "if the text in the file doesn’t match the default encoding for our platform. In this mode,\n",
    "Python text files automatically encode on writes and decode on reads per the encoding\n",
    "scheme name you provide. In Python 3.X:"
   ]
  },
  {
   "cell_type": "code",
   "execution_count": 13,
   "id": "fe73d864",
   "metadata": {},
   "outputs": [],
   "source": [
    "S = 'sp\\xc4m' # Non-ASCII Unicode text"
   ]
  },
  {
   "cell_type": "code",
   "execution_count": 14,
   "id": "8cc4698f",
   "metadata": {},
   "outputs": [
    {
     "data": {
      "text/plain": [
       "'spÄm'"
      ]
     },
     "execution_count": 14,
     "metadata": {},
     "output_type": "execute_result"
    }
   ],
   "source": [
    "S"
   ]
  },
  {
   "cell_type": "code",
   "execution_count": 15,
   "id": "9d0931e2",
   "metadata": {},
   "outputs": [
    {
     "data": {
      "text/plain": [
       "'Ä'"
      ]
     },
     "execution_count": 15,
     "metadata": {},
     "output_type": "execute_result"
    }
   ],
   "source": [
    "S[2]"
   ]
  },
  {
   "cell_type": "code",
   "execution_count": 16,
   "id": "bcd56775",
   "metadata": {},
   "outputs": [],
   "source": [
    "file = open('unidata.txt', 'w', encoding='utf-8') # Write/encode UTF-8 text"
   ]
  },
  {
   "cell_type": "code",
   "execution_count": 17,
   "id": "c862517a",
   "metadata": {},
   "outputs": [
    {
     "data": {
      "text/plain": [
       "4"
      ]
     },
     "execution_count": 17,
     "metadata": {},
     "output_type": "execute_result"
    }
   ],
   "source": [
    "file.write(S) # 4 characters written"
   ]
  },
  {
   "cell_type": "code",
   "execution_count": 18,
   "id": "6edee103",
   "metadata": {},
   "outputs": [],
   "source": [
    "file.close()"
   ]
  },
  {
   "cell_type": "code",
   "execution_count": 19,
   "id": "cab7804e",
   "metadata": {},
   "outputs": [],
   "source": [
    "text = open('unidata.txt', encoding='utf-8').read() # Read/decode UTF-8 text"
   ]
  },
  {
   "cell_type": "code",
   "execution_count": 20,
   "id": "a7e228a9",
   "metadata": {},
   "outputs": [
    {
     "data": {
      "text/plain": [
       "'spÄm'"
      ]
     },
     "execution_count": 20,
     "metadata": {},
     "output_type": "execute_result"
    }
   ],
   "source": [
    "text"
   ]
  },
  {
   "cell_type": "code",
   "execution_count": 21,
   "id": "3826d6c2",
   "metadata": {},
   "outputs": [
    {
     "data": {
      "text/plain": [
       "4"
      ]
     },
     "execution_count": 21,
     "metadata": {},
     "output_type": "execute_result"
    }
   ],
   "source": [
    "len(text)"
   ]
  },
  {
   "cell_type": "markdown",
   "id": "330f88e7",
   "metadata": {},
   "source": [
    "Because files handle\n",
    "this on transfers, you may process text in memory as a simple string of characters\n",
    "without concern for its Unicode-encoded origins. If needed, though, you can also see\n",
    "what’s truly stored in your file by stepping into binary mode:"
   ]
  },
  {
   "cell_type": "code",
   "execution_count": 22,
   "id": "6e2e6d34",
   "metadata": {},
   "outputs": [],
   "source": [
    "raw = open('unidata.txt', 'rb').read() # Read raw encoded bytes"
   ]
  },
  {
   "cell_type": "code",
   "execution_count": 23,
   "id": "465ed45f",
   "metadata": {},
   "outputs": [
    {
     "data": {
      "text/plain": [
       "b'sp\\xc3\\x84m'"
      ]
     },
     "execution_count": 23,
     "metadata": {},
     "output_type": "execute_result"
    }
   ],
   "source": [
    "raw"
   ]
  },
  {
   "cell_type": "code",
   "execution_count": 24,
   "id": "976b244c",
   "metadata": {},
   "outputs": [
    {
     "data": {
      "text/plain": [
       "5"
      ]
     },
     "execution_count": 24,
     "metadata": {},
     "output_type": "execute_result"
    }
   ],
   "source": [
    "len(raw)"
   ]
  },
  {
   "cell_type": "code",
   "execution_count": 25,
   "id": "9eccd5e8",
   "metadata": {},
   "outputs": [
    {
     "data": {
      "text/plain": [
       "b'sp\\xc3\\x84m'"
      ]
     },
     "execution_count": 25,
     "metadata": {},
     "output_type": "execute_result"
    }
   ],
   "source": [
    "# You can also encode and decode manually if you get Unicode data from a source other\n",
    "# than a file—parsed from an email message or fetched over a network connection, for\n",
    "# example:\n",
    "text.encode('utf-8') # Manual encode to bytes"
   ]
  },
  {
   "cell_type": "code",
   "execution_count": 26,
   "id": "e2361e66",
   "metadata": {},
   "outputs": [
    {
     "data": {
      "text/plain": [
       "'spÄm'"
      ]
     },
     "execution_count": 26,
     "metadata": {},
     "output_type": "execute_result"
    }
   ],
   "source": [
    "raw.decode('utf-8') # Manual decode to str"
   ]
  },
  {
   "cell_type": "code",
   "execution_count": 27,
   "id": "0250854b",
   "metadata": {},
   "outputs": [
    {
     "data": {
      "text/plain": [
       "b'sp\\xc4m'"
      ]
     },
     "execution_count": 27,
     "metadata": {},
     "output_type": "execute_result"
    }
   ],
   "source": [
    "text.encode('latin-1') # Bytes differ in others"
   ]
  },
  {
   "cell_type": "code",
   "execution_count": 28,
   "id": "9393a402",
   "metadata": {},
   "outputs": [
    {
     "data": {
      "text/plain": [
       "b'\\xff\\xfes\\x00p\\x00\\xc4\\x00m\\x00'"
      ]
     },
     "execution_count": 28,
     "metadata": {},
     "output_type": "execute_result"
    }
   ],
   "source": [
    "text.encode('utf-16')"
   ]
  },
  {
   "cell_type": "code",
   "execution_count": 29,
   "id": "114e037f",
   "metadata": {},
   "outputs": [
    {
     "data": {
      "text/plain": [
       "(4, 10)"
      ]
     },
     "execution_count": 29,
     "metadata": {},
     "output_type": "execute_result"
    }
   ],
   "source": [
    "len(text.encode('latin-1')), len(text.encode('utf-16'))"
   ]
  },
  {
   "cell_type": "code",
   "execution_count": 30,
   "id": "c3cc3fe0",
   "metadata": {},
   "outputs": [
    {
     "data": {
      "text/plain": [
       "'spÄm'"
      ]
     },
     "execution_count": 30,
     "metadata": {},
     "output_type": "execute_result"
    }
   ],
   "source": [
    "b'\\xff\\xfes\\x00p\\x00\\xc4\\x00m\\x00'.decode('utf-16') # But same string decoded"
   ]
  }
 ],
 "metadata": {
  "kernelspec": {
   "display_name": "Python 3 (ipykernel)",
   "language": "python",
   "name": "python3"
  },
  "language_info": {
   "codemirror_mode": {
    "name": "ipython",
    "version": 3
   },
   "file_extension": ".py",
   "mimetype": "text/x-python",
   "name": "python",
   "nbconvert_exporter": "python",
   "pygments_lexer": "ipython3",
   "version": "3.9.7"
  }
 },
 "nbformat": 4,
 "nbformat_minor": 5
}
