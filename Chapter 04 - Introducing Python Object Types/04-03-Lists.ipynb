{
 "cells": [
  {
   "cell_type": "markdown",
   "id": "341beb97",
   "metadata": {},
   "source": [
    "## Lists\n",
    "\n",
    "The Python list object is the most general sequence provided by the language. Lists are\n",
    "positionally ordered collections of arbitrarily typed objects, and they have no fixed size.\n",
    "They are also mutable—unlike strings, lists can be modified in place by assignment to\n",
    "offsets as well as a variety of list method calls."
   ]
  },
  {
   "cell_type": "markdown",
   "id": "904bacbc",
   "metadata": {},
   "source": [
    "### Sequence Operations\n",
    "\n",
    "Lists support all the sequence operations we discussed for strings"
   ]
  },
  {
   "cell_type": "code",
   "execution_count": 1,
   "id": "3beaade9",
   "metadata": {},
   "outputs": [],
   "source": [
    "L = [123, 'spam', 1.23] # A list of three different-type objects"
   ]
  },
  {
   "cell_type": "code",
   "execution_count": 2,
   "id": "fdac356b",
   "metadata": {},
   "outputs": [
    {
     "data": {
      "text/plain": [
       "3"
      ]
     },
     "execution_count": 2,
     "metadata": {},
     "output_type": "execute_result"
    }
   ],
   "source": [
    "len(L) # Number of items in the list"
   ]
  },
  {
   "cell_type": "code",
   "execution_count": 3,
   "id": "5d851712",
   "metadata": {},
   "outputs": [
    {
     "data": {
      "text/plain": [
       "123"
      ]
     },
     "execution_count": 3,
     "metadata": {},
     "output_type": "execute_result"
    }
   ],
   "source": [
    "# we can index, slice, and so on, just as for strings:\n",
    "L[0] # Indexing by position"
   ]
  },
  {
   "cell_type": "code",
   "execution_count": 4,
   "id": "657cb860",
   "metadata": {},
   "outputs": [
    {
     "data": {
      "text/plain": [
       "[123, 'spam']"
      ]
     },
     "execution_count": 4,
     "metadata": {},
     "output_type": "execute_result"
    }
   ],
   "source": [
    "L[:-1] # Slicing a list returns a new list"
   ]
  },
  {
   "cell_type": "code",
   "execution_count": 5,
   "id": "5ef833d6",
   "metadata": {},
   "outputs": [
    {
     "data": {
      "text/plain": [
       "[123, 'spam', 1.23, 4, 5, 6]"
      ]
     },
     "execution_count": 5,
     "metadata": {},
     "output_type": "execute_result"
    }
   ],
   "source": [
    "L + [4, 5, 6] # Concat/repeat make new lists too"
   ]
  },
  {
   "cell_type": "code",
   "execution_count": 6,
   "id": "51f160fc",
   "metadata": {},
   "outputs": [
    {
     "data": {
      "text/plain": [
       "[123, 'spam', 1.23, 123, 'spam', 1.23]"
      ]
     },
     "execution_count": 6,
     "metadata": {},
     "output_type": "execute_result"
    }
   ],
   "source": [
    "L * 2"
   ]
  },
  {
   "cell_type": "code",
   "execution_count": 7,
   "id": "236b5eb2",
   "metadata": {},
   "outputs": [
    {
     "data": {
      "text/plain": [
       "[123, 'spam', 1.23]"
      ]
     },
     "execution_count": 7,
     "metadata": {},
     "output_type": "execute_result"
    }
   ],
   "source": [
    "L # We're not changing the original list"
   ]
  },
  {
   "cell_type": "markdown",
   "id": "af72677a",
   "metadata": {},
   "source": [
    "### Type-Specific Operations\n",
    "\n",
    "Lists have no fixed type constraint and no fixed size."
   ]
  },
  {
   "cell_type": "code",
   "execution_count": 8,
   "id": "0fbe3c51",
   "metadata": {},
   "outputs": [],
   "source": [
    "L.append('NI') # Growing: add object at end of list"
   ]
  },
  {
   "cell_type": "code",
   "execution_count": 9,
   "id": "626c4ea9",
   "metadata": {},
   "outputs": [
    {
     "data": {
      "text/plain": [
       "[123, 'spam', 1.23, 'NI']"
      ]
     },
     "execution_count": 9,
     "metadata": {},
     "output_type": "execute_result"
    }
   ],
   "source": [
    "L"
   ]
  },
  {
   "cell_type": "code",
   "execution_count": 10,
   "id": "331b0326",
   "metadata": {},
   "outputs": [
    {
     "data": {
      "text/plain": [
       "1.23"
      ]
     },
     "execution_count": 10,
     "metadata": {},
     "output_type": "execute_result"
    }
   ],
   "source": [
    "L.pop(2) # Shrinking: delete an item in the middle"
   ]
  },
  {
   "cell_type": "code",
   "execution_count": 11,
   "id": "7f9b76d7",
   "metadata": {},
   "outputs": [
    {
     "data": {
      "text/plain": [
       "[123, 'spam', 'NI']"
      ]
     },
     "execution_count": 11,
     "metadata": {},
     "output_type": "execute_result"
    }
   ],
   "source": [
    "L"
   ]
  },
  {
   "cell_type": "markdown",
   "id": "122c52af",
   "metadata": {},
   "source": [
    "Other list methods insert an item at an arbitrary position\n",
    "(insert), remove a given item by value (remove), add multiple items at the end\n",
    "(extend), and so on. Because lists are mutable, most list methods also change the list\n",
    "object in place, instead of creating a new one"
   ]
  },
  {
   "cell_type": "code",
   "execution_count": 12,
   "id": "4e08c4d8",
   "metadata": {},
   "outputs": [],
   "source": [
    "M = ['bb', 'aa', 'cc']"
   ]
  },
  {
   "cell_type": "code",
   "execution_count": 13,
   "id": "0ad1e6f8",
   "metadata": {},
   "outputs": [],
   "source": [
    "M.sort() # sort() orders the list in ascending fashion by default"
   ]
  },
  {
   "cell_type": "code",
   "execution_count": 14,
   "id": "0f37342d",
   "metadata": {},
   "outputs": [
    {
     "data": {
      "text/plain": [
       "['aa', 'bb', 'cc']"
      ]
     },
     "execution_count": 14,
     "metadata": {},
     "output_type": "execute_result"
    }
   ],
   "source": [
    "M"
   ]
  },
  {
   "cell_type": "code",
   "execution_count": 15,
   "id": "6fb8bfab",
   "metadata": {},
   "outputs": [],
   "source": [
    "M.reverse() # reverse() reverses it"
   ]
  },
  {
   "cell_type": "code",
   "execution_count": 16,
   "id": "ce890579",
   "metadata": {},
   "outputs": [
    {
     "data": {
      "text/plain": [
       "['cc', 'bb', 'aa']"
      ]
     },
     "execution_count": 16,
     "metadata": {},
     "output_type": "execute_result"
    }
   ],
   "source": [
    "M"
   ]
  },
  {
   "cell_type": "markdown",
   "id": "69199413",
   "metadata": {},
   "source": [
    "### Bounds Checking\n",
    "\n",
    "Although lists have no fixed size, Python still doesn’t allow us to reference items that\n",
    "are not present. Indexing off the end of a list is always a mistake, but so is assigning off\n",
    "the end:"
   ]
  },
  {
   "cell_type": "code",
   "execution_count": 17,
   "id": "2c4cfe89",
   "metadata": {},
   "outputs": [
    {
     "data": {
      "text/plain": [
       "[123, 'spam', 'NI']"
      ]
     },
     "execution_count": 17,
     "metadata": {},
     "output_type": "execute_result"
    }
   ],
   "source": [
    "L"
   ]
  },
  {
   "cell_type": "code",
   "execution_count": 18,
   "id": "7904fe77",
   "metadata": {},
   "outputs": [
    {
     "ename": "IndexError",
     "evalue": "list index out of range",
     "output_type": "error",
     "traceback": [
      "\u001b[1;31m---------------------------------------------------------------------------\u001b[0m",
      "\u001b[1;31mIndexError\u001b[0m                                Traceback (most recent call last)",
      "\u001b[1;32m~\\AppData\\Local\\Temp/ipykernel_11200/2456052074.py\u001b[0m in \u001b[0;36m<module>\u001b[1;34m\u001b[0m\n\u001b[1;32m----> 1\u001b[1;33m \u001b[0mL\u001b[0m\u001b[1;33m[\u001b[0m\u001b[1;36m99\u001b[0m\u001b[1;33m]\u001b[0m\u001b[1;33m\u001b[0m\u001b[1;33m\u001b[0m\u001b[0m\n\u001b[0m",
      "\u001b[1;31mIndexError\u001b[0m: list index out of range"
     ]
    }
   ],
   "source": [
    "L[99]"
   ]
  },
  {
   "cell_type": "code",
   "execution_count": 19,
   "id": "d1651c55",
   "metadata": {},
   "outputs": [
    {
     "ename": "IndexError",
     "evalue": "list assignment index out of range",
     "output_type": "error",
     "traceback": [
      "\u001b[1;31m---------------------------------------------------------------------------\u001b[0m",
      "\u001b[1;31mIndexError\u001b[0m                                Traceback (most recent call last)",
      "\u001b[1;32m~\\AppData\\Local\\Temp/ipykernel_11200/790535016.py\u001b[0m in \u001b[0;36m<module>\u001b[1;34m\u001b[0m\n\u001b[1;32m----> 1\u001b[1;33m \u001b[0mL\u001b[0m\u001b[1;33m[\u001b[0m\u001b[1;36m99\u001b[0m\u001b[1;33m]\u001b[0m \u001b[1;33m=\u001b[0m \u001b[1;36m1\u001b[0m\u001b[1;33m\u001b[0m\u001b[1;33m\u001b[0m\u001b[0m\n\u001b[0m",
      "\u001b[1;31mIndexError\u001b[0m: list assignment index out of range"
     ]
    }
   ],
   "source": [
    "L[99] = 1"
   ]
  },
  {
   "cell_type": "markdown",
   "id": "ab47062e",
   "metadata": {},
   "source": [
    "### Nesting\n",
    "\n",
    "One nice feature of Python’s core data types is that they support arbitrary nesting—we\n",
    "can nest them in any combination, and as deeply as we like."
   ]
  },
  {
   "cell_type": "code",
   "execution_count": 20,
   "id": "f59b85cc",
   "metadata": {},
   "outputs": [],
   "source": [
    "M = [[1, 2, 3], # A 3 × 3 matrix, as nested lists\n",
    "     [4, 5, 6], # Code can span lines if bracketed\n",
    "     [7, 8, 9]]"
   ]
  },
  {
   "cell_type": "code",
   "execution_count": 21,
   "id": "8f4a05e4",
   "metadata": {},
   "outputs": [
    {
     "data": {
      "text/plain": [
       "[[1, 2, 3], [4, 5, 6], [7, 8, 9]]"
      ]
     },
     "execution_count": 21,
     "metadata": {},
     "output_type": "execute_result"
    }
   ],
   "source": [
    "M"
   ]
  },
  {
   "cell_type": "code",
   "execution_count": 22,
   "id": "80185c6d",
   "metadata": {},
   "outputs": [
    {
     "data": {
      "text/plain": [
       "[4, 5, 6]"
      ]
     },
     "execution_count": 22,
     "metadata": {},
     "output_type": "execute_result"
    }
   ],
   "source": [
    "M[1] # Get row 2"
   ]
  },
  {
   "cell_type": "code",
   "execution_count": 23,
   "id": "16753511",
   "metadata": {},
   "outputs": [
    {
     "data": {
      "text/plain": [
       "6"
      ]
     },
     "execution_count": 23,
     "metadata": {},
     "output_type": "execute_result"
    }
   ],
   "source": [
    "M[1][2] # Get row 2, then get item 3 within the row"
   ]
  },
  {
   "cell_type": "markdown",
   "id": "20850100",
   "metadata": {},
   "source": [
    "### Comprehensions\n",
    "\n",
    "In addition to sequence operations and list methods, Python includes a more advanced\n",
    "operation known as a list comprehension expression, which turns out to be a powerful\n",
    "way to process structures like our matrix. Suppose, for instance, that we need to extract\n",
    "the second column of our sample matrix. It’s easy to grab rows by simple indexing\n",
    "because the matrix is stored by rows, but it’s almost as easy to get a column with a list\n",
    "comprehension:"
   ]
  },
  {
   "cell_type": "code",
   "execution_count": 24,
   "id": "2b11dd8d",
   "metadata": {},
   "outputs": [],
   "source": [
    "col2 = [row[1] for row in M] # Collect the items in column 2"
   ]
  },
  {
   "cell_type": "code",
   "execution_count": 25,
   "id": "6250c0c8",
   "metadata": {},
   "outputs": [
    {
     "data": {
      "text/plain": [
       "[2, 5, 8]"
      ]
     },
     "execution_count": 25,
     "metadata": {},
     "output_type": "execute_result"
    }
   ],
   "source": [
    "col2"
   ]
  },
  {
   "cell_type": "code",
   "execution_count": 26,
   "id": "f538eae0",
   "metadata": {},
   "outputs": [
    {
     "data": {
      "text/plain": [
       "[[1, 2, 3], [4, 5, 6], [7, 8, 9]]"
      ]
     },
     "execution_count": 26,
     "metadata": {},
     "output_type": "execute_result"
    }
   ],
   "source": [
    "M # The matrix is unchanged"
   ]
  },
  {
   "cell_type": "markdown",
   "id": "d4f06ce4",
   "metadata": {},
   "source": [
    "The preceding list comprehension means basically what it says: “Give\n",
    "me row[1] for each row in matrix M, in a new list.” The result is a new list containing column 2 of the matrix."
   ]
  },
  {
   "cell_type": "markdown",
   "id": "841630a8",
   "metadata": {},
   "source": [
    "The first operation here, for instance, adds 1 to each item as it is collected, and the\n",
    "second uses an if clause to filter odd numbers out of the result using the % modulus\n",
    "expression"
   ]
  },
  {
   "cell_type": "code",
   "execution_count": 27,
   "id": "60270ef5",
   "metadata": {},
   "outputs": [
    {
     "data": {
      "text/plain": [
       "[3, 6, 9]"
      ]
     },
     "execution_count": 27,
     "metadata": {},
     "output_type": "execute_result"
    }
   ],
   "source": [
    "# List comprehensions can be more complex in practice:\n",
    "\n",
    "[row[1] + 1 for row in M] # Add 1 to each item in column 2"
   ]
  },
  {
   "cell_type": "code",
   "execution_count": 28,
   "id": "b5364afd",
   "metadata": {},
   "outputs": [
    {
     "data": {
      "text/plain": [
       "[2, 8]"
      ]
     },
     "execution_count": 28,
     "metadata": {},
     "output_type": "execute_result"
    }
   ],
   "source": [
    "[row[1] for row in M if row[1] % 2 == 0] # Filter out odd items"
   ]
  },
  {
   "cell_type": "markdown",
   "id": "4d37284a",
   "metadata": {},
   "source": [
    "List comprehensions make new lists of results, but\n",
    "they can be used to iterate over any iterable object—a term we’ll flesh out later in this\n",
    "preview. Here, for instance, we use list comprehensions to step over a hardcoded list\n",
    "of coordinates and a string:"
   ]
  },
  {
   "cell_type": "code",
   "execution_count": 29,
   "id": "0895d6f4",
   "metadata": {},
   "outputs": [],
   "source": [
    "diag = [M[i][i] for i in [0, 1, 2]] # Collect a diagonal from matrix"
   ]
  },
  {
   "cell_type": "code",
   "execution_count": 30,
   "id": "7f66472a",
   "metadata": {},
   "outputs": [
    {
     "data": {
      "text/plain": [
       "[1, 5, 9]"
      ]
     },
     "execution_count": 30,
     "metadata": {},
     "output_type": "execute_result"
    }
   ],
   "source": [
    "diag"
   ]
  },
  {
   "cell_type": "code",
   "execution_count": 31,
   "id": "644e2dc4",
   "metadata": {},
   "outputs": [],
   "source": [
    "doubles = [c * 2 for c in 'spam'] # Repeat characters in a string"
   ]
  },
  {
   "cell_type": "code",
   "execution_count": 32,
   "id": "891c77e2",
   "metadata": {},
   "outputs": [
    {
     "data": {
      "text/plain": [
       "['ss', 'pp', 'aa', 'mm']"
      ]
     },
     "execution_count": 32,
     "metadata": {},
     "output_type": "execute_result"
    }
   ],
   "source": [
    "doubles"
   ]
  },
  {
   "cell_type": "markdown",
   "id": "1fc0649a",
   "metadata": {},
   "source": [
    "These expressions can also be used to collect multiple values, as long as we wrap those\n",
    "values in a nested collection. The following illustrates using range—a built-in that generates\n",
    "successive integers, and requires a surrounding\n",
    "to display all its values in\n",
    "list\n",
    "3.X only"
   ]
  },
  {
   "cell_type": "code",
   "execution_count": 33,
   "id": "b0d8cd89",
   "metadata": {},
   "outputs": [
    {
     "data": {
      "text/plain": [
       "[0, 1, 2, 3]"
      ]
     },
     "execution_count": 33,
     "metadata": {},
     "output_type": "execute_result"
    }
   ],
   "source": [
    "list(range(4)) # 0..3"
   ]
  },
  {
   "cell_type": "code",
   "execution_count": 34,
   "id": "a08a82f0",
   "metadata": {},
   "outputs": [
    {
     "data": {
      "text/plain": [
       "[-6, -4, -2, 0, 2, 4, 6]"
      ]
     },
     "execution_count": 34,
     "metadata": {},
     "output_type": "execute_result"
    }
   ],
   "source": [
    "list(range(-6, 7, 2)) # −6 to +6 by 2"
   ]
  },
  {
   "cell_type": "code",
   "execution_count": 35,
   "id": "4decca3b",
   "metadata": {},
   "outputs": [
    {
     "data": {
      "text/plain": [
       "[[0, 0], [1, 1], [4, 8], [9, 27]]"
      ]
     },
     "execution_count": 35,
     "metadata": {},
     "output_type": "execute_result"
    }
   ],
   "source": [
    "[[x ** 2, x ** 3] for x in range(4)] # Multiple values, \"if\" filters"
   ]
  },
  {
   "cell_type": "code",
   "execution_count": 36,
   "id": "1c3e9c22",
   "metadata": {},
   "outputs": [
    {
     "data": {
      "text/plain": [
       "[[2, 1.0, 4], [4, 2.0, 8], [6, 3.0, 12]]"
      ]
     },
     "execution_count": 36,
     "metadata": {},
     "output_type": "execute_result"
    }
   ],
   "source": [
    "[[x, x / 2, x * 2] for x in range(-6, 7, 2) if x > 0]"
   ]
  },
  {
   "cell_type": "markdown",
   "id": "ac6ac814",
   "metadata": {},
   "source": [
    "As a preview, though, you’ll find that in recent Pythons, comprehension syntax has\n",
    "been generalized for other roles: it’s not just for making lists today. For example, enclosing\n",
    "a comprehension in parentheses can also be used to create generators that produce\n",
    "results on demand. To illustrate, the\n",
    "built-in sums items in a sequence—in\n",
    "sum\n",
    "this example, summing all items in our matrix’s rows on request:"
   ]
  },
  {
   "cell_type": "code",
   "execution_count": 37,
   "id": "76c073a7",
   "metadata": {},
   "outputs": [],
   "source": [
    "G = (sum(row) for row in M) # Create a generator of row sums"
   ]
  },
  {
   "cell_type": "code",
   "execution_count": 38,
   "id": "aff4ca34",
   "metadata": {},
   "outputs": [
    {
     "data": {
      "text/plain": [
       "6"
      ]
     },
     "execution_count": 38,
     "metadata": {},
     "output_type": "execute_result"
    }
   ],
   "source": [
    "next(G) # iter(G) not required here"
   ]
  },
  {
   "cell_type": "code",
   "execution_count": 39,
   "id": "bfa76ea3",
   "metadata": {},
   "outputs": [
    {
     "data": {
      "text/plain": [
       "15"
      ]
     },
     "execution_count": 39,
     "metadata": {},
     "output_type": "execute_result"
    }
   ],
   "source": [
    "next(G) # Run the iteration protocol next()"
   ]
  },
  {
   "cell_type": "code",
   "execution_count": 40,
   "id": "b8b78253",
   "metadata": {},
   "outputs": [
    {
     "data": {
      "text/plain": [
       "24"
      ]
     },
     "execution_count": 40,
     "metadata": {},
     "output_type": "execute_result"
    }
   ],
   "source": [
    "next(G)"
   ]
  },
  {
   "cell_type": "markdown",
   "id": "61f5779b",
   "metadata": {},
   "source": [
    "#### map()\n",
    "\n",
    "The map() built-in can do similar work, by generating the results of running items through\n",
    "a function, one at a time and on request. Like range, wrapping it in list forces it to return all its values in Python 3.X"
   ]
  },
  {
   "cell_type": "code",
   "execution_count": 41,
   "id": "2e36c60a",
   "metadata": {},
   "outputs": [
    {
     "data": {
      "text/plain": [
       "[6, 15, 24]"
      ]
     },
     "execution_count": 41,
     "metadata": {},
     "output_type": "execute_result"
    }
   ],
   "source": [
    "list(map(sum, M)) # Map sum over items in M"
   ]
  },
  {
   "cell_type": "code",
   "execution_count": 42,
   "id": "5f4bb5ae",
   "metadata": {},
   "outputs": [
    {
     "data": {
      "text/plain": [
       "{6, 15, 24}"
      ]
     },
     "execution_count": 42,
     "metadata": {},
     "output_type": "execute_result"
    }
   ],
   "source": [
    "{sum(row) for row in M} # Create a set of row sums"
   ]
  },
  {
   "cell_type": "code",
   "execution_count": 43,
   "id": "ff8dfc22",
   "metadata": {},
   "outputs": [
    {
     "data": {
      "text/plain": [
       "{0: 6, 1: 15, 2: 24}"
      ]
     },
     "execution_count": 43,
     "metadata": {},
     "output_type": "execute_result"
    }
   ],
   "source": [
    "{i : sum(M[i]) for i in range(3)} # Creates key/value table of row sums"
   ]
  },
  {
   "cell_type": "code",
   "execution_count": 44,
   "id": "3eb69de2",
   "metadata": {},
   "outputs": [
    {
     "data": {
      "text/plain": [
       "[115, 112, 97, 97, 109]"
      ]
     },
     "execution_count": 44,
     "metadata": {},
     "output_type": "execute_result"
    }
   ],
   "source": [
    "[ord(x) for x in 'spaam'] # List of character ordinals"
   ]
  },
  {
   "cell_type": "code",
   "execution_count": 45,
   "id": "324623eb",
   "metadata": {},
   "outputs": [
    {
     "data": {
      "text/plain": [
       "{97, 109, 112, 115}"
      ]
     },
     "execution_count": 45,
     "metadata": {},
     "output_type": "execute_result"
    }
   ],
   "source": [
    "{ord(x) for x in 'spaam'} # Sets remove duplicates"
   ]
  },
  {
   "cell_type": "code",
   "execution_count": 46,
   "id": "db851493",
   "metadata": {},
   "outputs": [
    {
     "data": {
      "text/plain": [
       "{'s': 115, 'p': 112, 'a': 97, 'm': 109}"
      ]
     },
     "execution_count": 46,
     "metadata": {},
     "output_type": "execute_result"
    }
   ],
   "source": [
    "{x: ord(x) for x in 'spaam'} # Dictionary keys are unique"
   ]
  },
  {
   "cell_type": "code",
   "execution_count": 47,
   "id": "30766e7f",
   "metadata": {},
   "outputs": [
    {
     "data": {
      "text/plain": [
       "<generator object <genexpr> at 0x0000019D27BF1580>"
      ]
     },
     "execution_count": 47,
     "metadata": {},
     "output_type": "execute_result"
    }
   ],
   "source": [
    "(ord(x) for x in 'spaam') # Generator of values"
   ]
  }
 ],
 "metadata": {
  "kernelspec": {
   "display_name": "Python 3 (ipykernel)",
   "language": "python",
   "name": "python3"
  },
  "language_info": {
   "codemirror_mode": {
    "name": "ipython",
    "version": 3
   },
   "file_extension": ".py",
   "mimetype": "text/x-python",
   "name": "python",
   "nbconvert_exporter": "python",
   "pygments_lexer": "ipython3",
   "version": "3.9.7"
  }
 },
 "nbformat": 4,
 "nbformat_minor": 5
}
