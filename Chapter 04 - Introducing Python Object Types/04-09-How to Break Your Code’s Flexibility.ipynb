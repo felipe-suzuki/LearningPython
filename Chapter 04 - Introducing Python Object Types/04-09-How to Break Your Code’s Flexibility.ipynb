{
 "cells": [
  {
   "cell_type": "markdown",
   "id": "7ffc8cfe",
   "metadata": {},
   "source": [
    "## type() built-in function\n",
    "\n",
    "The type object, returned by the type built-in function, is an object that\n",
    "gives the type of another object"
   ]
  },
  {
   "cell_type": "code",
   "execution_count": 2,
   "id": "046f0534",
   "metadata": {},
   "outputs": [],
   "source": [
    "L = [None] * 100 # Initialize a list of 100 Nones"
   ]
  },
  {
   "cell_type": "code",
   "execution_count": 3,
   "id": "8d755417",
   "metadata": {
    "scrolled": true
   },
   "outputs": [
    {
     "data": {
      "text/plain": [
       "list"
      ]
     },
     "execution_count": 3,
     "metadata": {},
     "output_type": "execute_result"
    }
   ],
   "source": [
    "type(L) # types are classes, and vice versa"
   ]
  },
  {
   "cell_type": "code",
   "execution_count": 4,
   "id": "22fb1c9c",
   "metadata": {},
   "outputs": [
    {
     "data": {
      "text/plain": [
       "type"
      ]
     },
     "execution_count": 4,
     "metadata": {},
     "output_type": "execute_result"
    }
   ],
   "source": [
    "type(type(L))"
   ]
  },
  {
   "cell_type": "markdown",
   "id": "e0404dd9",
   "metadata": {},
   "source": [
    "### type object in its most practical application allows code to check the types of the objects it processes"
   ]
  },
  {
   "cell_type": "code",
   "execution_count": 5,
   "id": "bfa8f7d0",
   "metadata": {},
   "outputs": [
    {
     "name": "stdout",
     "output_type": "stream",
     "text": [
      "yes\n"
     ]
    }
   ],
   "source": [
    "if type(L) == type([]): # Type testing, if you must...\n",
    "    print('yes')"
   ]
  },
  {
   "cell_type": "code",
   "execution_count": 6,
   "id": "5f5040ed",
   "metadata": {},
   "outputs": [
    {
     "name": "stdout",
     "output_type": "stream",
     "text": [
      "yes\n"
     ]
    }
   ],
   "source": [
    "if type(L) == list: # Using the type name\n",
    "    print('yes')"
   ]
  },
  {
   "cell_type": "code",
   "execution_count": 7,
   "id": "0cddde65",
   "metadata": {},
   "outputs": [
    {
     "name": "stdout",
     "output_type": "stream",
     "text": [
      "yes\n"
     ]
    }
   ],
   "source": [
    "if isinstance(L, list): # Object-oriented tests\n",
    "    print('yes')"
   ]
  },
  {
   "cell_type": "markdown",
   "id": "d3db615f",
   "metadata": {},
   "source": [
    "## User-Defined Classes (it will be better explored in the future)\n",
    "\n",
    "In abstract terms, classes define new types of objects that extend the core set, so they merit a passing glance here.\n",
    "\n",
    "\n",
    "The next example will show how to have a type of object that models employees."
   ]
  },
  {
   "cell_type": "code",
   "execution_count": 9,
   "id": "0b9c4a0a",
   "metadata": {},
   "outputs": [],
   "source": [
    "class Worker:\n",
    "    def __init__(self, name, pay): # Initialize when created\n",
    "        self.name = name # self is the new object\n",
    "        self.pay = pay\n",
    "    def lastName(self):\n",
    "        return self.name.split()[-1] # Split string on blanks\n",
    "    def giveRaise(self, percent):\n",
    "        self.pay *= (1.0 + percent) # Update pay in place"
   ]
  },
  {
   "cell_type": "markdown",
   "id": "1a7a611e",
   "metadata": {},
   "source": [
    "#### This class defines a new kind of object that will have name and pay attributes (sometimes called state information ), as well as two bits of behavior coded as functions (normally called methods). Calling the class like a function generates instances of our new type, and the class’s methods automatically receive the instance being processed by a given method call (in the self argument):"
   ]
  },
  {
   "cell_type": "code",
   "execution_count": 10,
   "id": "8fee3ffe",
   "metadata": {},
   "outputs": [],
   "source": [
    "bob = Worker('Bob Smith', 50000) # Make two instances"
   ]
  },
  {
   "cell_type": "code",
   "execution_count": 11,
   "id": "37b0c7fd",
   "metadata": {},
   "outputs": [],
   "source": [
    "sue = Worker('Sue Jones', 60000) # Each has name and pay attrs"
   ]
  },
  {
   "cell_type": "code",
   "execution_count": 12,
   "id": "54b5961a",
   "metadata": {},
   "outputs": [
    {
     "data": {
      "text/plain": [
       "'Smith'"
      ]
     },
     "execution_count": 12,
     "metadata": {},
     "output_type": "execute_result"
    }
   ],
   "source": [
    "bob.lastName() # Call method: bob is self"
   ]
  },
  {
   "cell_type": "code",
   "execution_count": 13,
   "id": "d4436060",
   "metadata": {},
   "outputs": [
    {
     "data": {
      "text/plain": [
       "'Jones'"
      ]
     },
     "execution_count": 13,
     "metadata": {},
     "output_type": "execute_result"
    }
   ],
   "source": [
    "sue.lastName() # sue is the self subject"
   ]
  },
  {
   "cell_type": "code",
   "execution_count": 14,
   "id": "0406afe9",
   "metadata": {},
   "outputs": [],
   "source": [
    "sue.giveRaise(.10) # Updates sue's pay"
   ]
  },
  {
   "cell_type": "code",
   "execution_count": 15,
   "id": "cf41f0c8",
   "metadata": {},
   "outputs": [
    {
     "data": {
      "text/plain": [
       "66000.0"
      ]
     },
     "execution_count": 15,
     "metadata": {},
     "output_type": "execute_result"
    }
   ],
   "source": [
    "sue.pay"
   ]
  },
  {
   "cell_type": "markdown",
   "id": "3cf85b46",
   "metadata": {},
   "source": [
    "#### The implied “self” object is why we call this an object-oriented model: there is always an implied subject in functions within a class. In a sense, though, the class-based type simply builds on and uses core types—a user-defined Worker object here, for example, is just a collection of a string and a number (name and pay, respectively), plus functions for processing those two built-in objects."
   ]
  }
 ],
 "metadata": {
  "kernelspec": {
   "display_name": "Python 3 (ipykernel)",
   "language": "python",
   "name": "python3"
  },
  "language_info": {
   "codemirror_mode": {
    "name": "ipython",
    "version": 3
   },
   "file_extension": ".py",
   "mimetype": "text/x-python",
   "name": "python",
   "nbconvert_exporter": "python",
   "pygments_lexer": "ipython3",
   "version": "3.9.7"
  }
 },
 "nbformat": 4,
 "nbformat_minor": 5
}
