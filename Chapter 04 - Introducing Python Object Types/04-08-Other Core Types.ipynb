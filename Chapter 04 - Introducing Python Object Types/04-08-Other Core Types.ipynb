{
 "cells": [
  {
   "cell_type": "markdown",
   "id": "4c65bbb4",
   "metadata": {},
   "source": [
    "## Other Core Types\n",
    "\n",
    "Sets, for example,\n",
    "are a recent addition to the language that are neither mappings nor sequences;\n",
    "rather, they are unordered collections of unique and immutable objects."
   ]
  },
  {
   "cell_type": "code",
   "execution_count": 1,
   "id": "b368d48b",
   "metadata": {},
   "outputs": [],
   "source": [
    "X = set('spam') # Make a set out of a sequence"
   ]
  },
  {
   "cell_type": "code",
   "execution_count": 3,
   "id": "36568af7",
   "metadata": {},
   "outputs": [
    {
     "data": {
      "text/plain": [
       "{'a', 'm', 'p', 's'}"
      ]
     },
     "execution_count": 3,
     "metadata": {},
     "output_type": "execute_result"
    }
   ],
   "source": [
    "X"
   ]
  },
  {
   "cell_type": "code",
   "execution_count": 2,
   "id": "f7160cee",
   "metadata": {},
   "outputs": [],
   "source": [
    "Y = {'h', 'a', 'm'} # Make a set with set literals"
   ]
  },
  {
   "cell_type": "code",
   "execution_count": 4,
   "id": "4dd7df80",
   "metadata": {},
   "outputs": [
    {
     "data": {
      "text/plain": [
       "{'a', 'h', 'm'}"
      ]
     },
     "execution_count": 4,
     "metadata": {},
     "output_type": "execute_result"
    }
   ],
   "source": [
    "Y"
   ]
  },
  {
   "cell_type": "code",
   "execution_count": 5,
   "id": "96971be6",
   "metadata": {},
   "outputs": [
    {
     "data": {
      "text/plain": [
       "({'a', 'm', 'p', 's'}, {'a', 'h', 'm'})"
      ]
     },
     "execution_count": 5,
     "metadata": {},
     "output_type": "execute_result"
    }
   ],
   "source": [
    "X, Y # A tuple of two sets without parentheses\n",
    "({'m', 'a', 'p', 's'}, {'m', 'a', 'h'})"
   ]
  },
  {
   "cell_type": "code",
   "execution_count": 6,
   "id": "bcde0712",
   "metadata": {},
   "outputs": [
    {
     "data": {
      "text/plain": [
       "{'a', 'm'}"
      ]
     },
     "execution_count": 6,
     "metadata": {},
     "output_type": "execute_result"
    }
   ],
   "source": [
    "X & Y # Intersection"
   ]
  },
  {
   "cell_type": "code",
   "execution_count": 7,
   "id": "78d28634",
   "metadata": {},
   "outputs": [
    {
     "data": {
      "text/plain": [
       "{'a', 'h', 'm', 'p', 's'}"
      ]
     },
     "execution_count": 7,
     "metadata": {},
     "output_type": "execute_result"
    }
   ],
   "source": [
    "X | Y # Union"
   ]
  },
  {
   "cell_type": "code",
   "execution_count": 8,
   "id": "7b83699d",
   "metadata": {},
   "outputs": [
    {
     "data": {
      "text/plain": [
       "{'p', 's'}"
      ]
     },
     "execution_count": 8,
     "metadata": {},
     "output_type": "execute_result"
    }
   ],
   "source": [
    "X - Y # Difference"
   ]
  },
  {
   "cell_type": "code",
   "execution_count": 9,
   "id": "dfc9bd8d",
   "metadata": {},
   "outputs": [
    {
     "data": {
      "text/plain": [
       "False"
      ]
     },
     "execution_count": 9,
     "metadata": {},
     "output_type": "execute_result"
    }
   ],
   "source": [
    "X > Y # Superset"
   ]
  },
  {
   "cell_type": "code",
   "execution_count": 10,
   "id": "6bef4679",
   "metadata": {},
   "outputs": [
    {
     "data": {
      "text/plain": [
       "{1, 4, 9, 16}"
      ]
     },
     "execution_count": 10,
     "metadata": {},
     "output_type": "execute_result"
    }
   ],
   "source": [
    "{n ** 2 for n in [1, 2, 3, 4]} # Set comprehensions"
   ]
  },
  {
   "cell_type": "markdown",
   "id": "be80b427",
   "metadata": {},
   "source": [
    "### Even less mathematically inclined programmers often find sets useful for common tasks such as filtering out duplicates, isolating differences, and performing order-neutral equality tests without sorting—in lists, strings, and all other iterable objects."
   ]
  },
  {
   "cell_type": "code",
   "execution_count": 11,
   "id": "c3985ca7",
   "metadata": {},
   "outputs": [
    {
     "data": {
      "text/plain": [
       "[1, 2, 3]"
      ]
     },
     "execution_count": 11,
     "metadata": {},
     "output_type": "execute_result"
    }
   ],
   "source": [
    "list(set([1, 2, 1, 3, 1])) # Filtering out duplicates"
   ]
  },
  {
   "cell_type": "code",
   "execution_count": 12,
   "id": "8f0cc7bd",
   "metadata": {},
   "outputs": [
    {
     "data": {
      "text/plain": [
       "{'p', 's'}"
      ]
     },
     "execution_count": 12,
     "metadata": {},
     "output_type": "execute_result"
    }
   ],
   "source": [
    "set('spam') - set('ham') # Finding differences in collections"
   ]
  },
  {
   "cell_type": "code",
   "execution_count": 13,
   "id": "a1fc643f",
   "metadata": {},
   "outputs": [
    {
     "data": {
      "text/plain": [
       "True"
      ]
     },
     "execution_count": 13,
     "metadata": {},
     "output_type": "execute_result"
    }
   ],
   "source": [
    "set('spam') == set('asmp') # Order-neutral equality tests (== is False)"
   ]
  },
  {
   "cell_type": "markdown",
   "id": "cecae8eb",
   "metadata": {},
   "source": [
    "### Sets also support in membership tests, though all other collection types in Python do too:"
   ]
  },
  {
   "cell_type": "code",
   "execution_count": 14,
   "id": "969ef6b5",
   "metadata": {},
   "outputs": [
    {
     "data": {
      "text/plain": [
       "(True, True, True)"
      ]
     },
     "execution_count": 14,
     "metadata": {},
     "output_type": "execute_result"
    }
   ],
   "source": [
    "'p' in set('spam'), 'p' in 'spam', 'ham' in ['eggs', 'spam', 'ham']"
   ]
  },
  {
   "cell_type": "markdown",
   "id": "e63318ba",
   "metadata": {},
   "source": [
    "### Python recently grew a few new numeric types: decimal numbers, which are fixed-precision floating-point numbers, and fraction numbers, which are rational numbers with both a numerator and a denominator."
   ]
  },
  {
   "cell_type": "code",
   "execution_count": 15,
   "id": "394077e9",
   "metadata": {},
   "outputs": [
    {
     "data": {
      "text/plain": [
       "0.3333333333333333"
      ]
     },
     "execution_count": 15,
     "metadata": {},
     "output_type": "execute_result"
    }
   ],
   "source": [
    "1 / 3 # Floating-point"
   ]
  },
  {
   "cell_type": "code",
   "execution_count": 16,
   "id": "f935b2cf",
   "metadata": {},
   "outputs": [
    {
     "data": {
      "text/plain": [
       "1.1666666666666665"
      ]
     },
     "execution_count": 16,
     "metadata": {},
     "output_type": "execute_result"
    }
   ],
   "source": [
    "(2/3) + (1/2)"
   ]
  },
  {
   "cell_type": "code",
   "execution_count": 17,
   "id": "dea78227",
   "metadata": {},
   "outputs": [],
   "source": [
    "import decimal # Decimals: fixed precision"
   ]
  },
  {
   "cell_type": "code",
   "execution_count": 18,
   "id": "3a6171c0",
   "metadata": {},
   "outputs": [],
   "source": [
    "d = decimal.Decimal('3.141')"
   ]
  },
  {
   "cell_type": "code",
   "execution_count": 19,
   "id": "d85f26f4",
   "metadata": {},
   "outputs": [
    {
     "data": {
      "text/plain": [
       "Decimal('4.141')"
      ]
     },
     "execution_count": 19,
     "metadata": {},
     "output_type": "execute_result"
    }
   ],
   "source": [
    "d + 1"
   ]
  },
  {
   "cell_type": "code",
   "execution_count": 20,
   "id": "54c4e89d",
   "metadata": {},
   "outputs": [],
   "source": [
    "decimal.getcontext().prec = 2"
   ]
  },
  {
   "cell_type": "code",
   "execution_count": 21,
   "id": "c2cec1e2",
   "metadata": {},
   "outputs": [
    {
     "data": {
      "text/plain": [
       "Decimal('0.33')"
      ]
     },
     "execution_count": 21,
     "metadata": {},
     "output_type": "execute_result"
    }
   ],
   "source": [
    "decimal.Decimal('1.00') / decimal.Decimal('3.00')"
   ]
  },
  {
   "cell_type": "code",
   "execution_count": 22,
   "id": "dc8a2dd9",
   "metadata": {},
   "outputs": [],
   "source": [
    "from fractions import Fraction # Fractions: numerator+denominator"
   ]
  },
  {
   "cell_type": "code",
   "execution_count": 23,
   "id": "b3c91c39",
   "metadata": {},
   "outputs": [],
   "source": [
    "f = Fraction(2, 3)"
   ]
  },
  {
   "cell_type": "code",
   "execution_count": 24,
   "id": "ecb645c2",
   "metadata": {},
   "outputs": [
    {
     "data": {
      "text/plain": [
       "Fraction(5, 3)"
      ]
     },
     "execution_count": 24,
     "metadata": {},
     "output_type": "execute_result"
    }
   ],
   "source": [
    "f + 1"
   ]
  },
  {
   "cell_type": "code",
   "execution_count": 25,
   "id": "fa23076f",
   "metadata": {},
   "outputs": [
    {
     "data": {
      "text/plain": [
       "Fraction(7, 6)"
      ]
     },
     "execution_count": 25,
     "metadata": {},
     "output_type": "execute_result"
    }
   ],
   "source": [
    "f + Fraction(1, 2)"
   ]
  },
  {
   "cell_type": "markdown",
   "id": "36908dc0",
   "metadata": {},
   "source": [
    "### Python also comes with Booleans (with predefined True and False objects that are essentially just the integers 1 and 0 with custom display logic), and it has long supported a special placeholder object called None commonly used to initialize names and objects."
   ]
  },
  {
   "cell_type": "code",
   "execution_count": 26,
   "id": "d15c98fb",
   "metadata": {},
   "outputs": [
    {
     "data": {
      "text/plain": [
       "(False, True)"
      ]
     },
     "execution_count": 26,
     "metadata": {},
     "output_type": "execute_result"
    }
   ],
   "source": [
    "1 > 2, 1 < 2 # Booleans"
   ]
  },
  {
   "cell_type": "code",
   "execution_count": 27,
   "id": "b7056177",
   "metadata": {},
   "outputs": [
    {
     "data": {
      "text/plain": [
       "True"
      ]
     },
     "execution_count": 27,
     "metadata": {},
     "output_type": "execute_result"
    }
   ],
   "source": [
    "bool('spam') # Object's Boolean value"
   ]
  },
  {
   "cell_type": "code",
   "execution_count": 28,
   "id": "85096bbe",
   "metadata": {},
   "outputs": [],
   "source": [
    "X = None # None placeholder"
   ]
  },
  {
   "cell_type": "code",
   "execution_count": 29,
   "id": "eb4219ed",
   "metadata": {},
   "outputs": [
    {
     "name": "stdout",
     "output_type": "stream",
     "text": [
      "None\n"
     ]
    }
   ],
   "source": [
    "print(X)"
   ]
  },
  {
   "cell_type": "code",
   "execution_count": 30,
   "id": "1d62dc44",
   "metadata": {},
   "outputs": [],
   "source": [
    "L = [None] * 100 # Initialize a list of 100 Nones"
   ]
  },
  {
   "cell_type": "code",
   "execution_count": 31,
   "id": "7f7bbab2",
   "metadata": {},
   "outputs": [
    {
     "data": {
      "text/plain": [
       "[None,\n",
       " None,\n",
       " None,\n",
       " None,\n",
       " None,\n",
       " None,\n",
       " None,\n",
       " None,\n",
       " None,\n",
       " None,\n",
       " None,\n",
       " None,\n",
       " None,\n",
       " None,\n",
       " None,\n",
       " None,\n",
       " None,\n",
       " None,\n",
       " None,\n",
       " None,\n",
       " None,\n",
       " None,\n",
       " None,\n",
       " None,\n",
       " None,\n",
       " None,\n",
       " None,\n",
       " None,\n",
       " None,\n",
       " None,\n",
       " None,\n",
       " None,\n",
       " None,\n",
       " None,\n",
       " None,\n",
       " None,\n",
       " None,\n",
       " None,\n",
       " None,\n",
       " None,\n",
       " None,\n",
       " None,\n",
       " None,\n",
       " None,\n",
       " None,\n",
       " None,\n",
       " None,\n",
       " None,\n",
       " None,\n",
       " None,\n",
       " None,\n",
       " None,\n",
       " None,\n",
       " None,\n",
       " None,\n",
       " None,\n",
       " None,\n",
       " None,\n",
       " None,\n",
       " None,\n",
       " None,\n",
       " None,\n",
       " None,\n",
       " None,\n",
       " None,\n",
       " None,\n",
       " None,\n",
       " None,\n",
       " None,\n",
       " None,\n",
       " None,\n",
       " None,\n",
       " None,\n",
       " None,\n",
       " None,\n",
       " None,\n",
       " None,\n",
       " None,\n",
       " None,\n",
       " None,\n",
       " None,\n",
       " None,\n",
       " None,\n",
       " None,\n",
       " None,\n",
       " None,\n",
       " None,\n",
       " None,\n",
       " None,\n",
       " None,\n",
       " None,\n",
       " None,\n",
       " None,\n",
       " None,\n",
       " None,\n",
       " None,\n",
       " None,\n",
       " None,\n",
       " None,\n",
       " None]"
      ]
     },
     "execution_count": 31,
     "metadata": {},
     "output_type": "execute_result"
    }
   ],
   "source": [
    "L"
   ]
  }
 ],
 "metadata": {
  "kernelspec": {
   "display_name": "Python 3 (ipykernel)",
   "language": "python",
   "name": "python3"
  },
  "language_info": {
   "codemirror_mode": {
    "name": "ipython",
    "version": 3
   },
   "file_extension": ".py",
   "mimetype": "text/x-python",
   "name": "python",
   "nbconvert_exporter": "python",
   "pygments_lexer": "ipython3",
   "version": "3.9.7"
  }
 },
 "nbformat": 4,
 "nbformat_minor": 5
}
