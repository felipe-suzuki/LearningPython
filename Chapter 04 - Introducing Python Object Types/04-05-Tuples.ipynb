{
 "cells": [
  {
   "cell_type": "markdown",
   "id": "83ec1408",
   "metadata": {},
   "source": [
    "## Tuples\n",
    "\n",
    "The tuple object is\n",
    "roughly like a list that cannot be changed—tuples are sequences, like lists, but they are\n",
    "immutable, like strings. Functionally, they’re used to represent fixed collections of\n",
    "items: the components of a specific calendar date, for instance. Syntactically, they are\n",
    "normally coded in parentheses instead of square brackets, and they support arbitrary\n",
    "types, arbitrary nesting, and the usual sequence operations:"
   ]
  },
  {
   "cell_type": "code",
   "execution_count": 1,
   "id": "67d68854",
   "metadata": {},
   "outputs": [],
   "source": [
    "T = (1, 2, 3, 4) # A 4-item tuple"
   ]
  },
  {
   "cell_type": "code",
   "execution_count": 3,
   "id": "b9a1dd16",
   "metadata": {},
   "outputs": [
    {
     "data": {
      "text/plain": [
       "4"
      ]
     },
     "execution_count": 3,
     "metadata": {},
     "output_type": "execute_result"
    }
   ],
   "source": [
    "len(T)"
   ]
  },
  {
   "cell_type": "code",
   "execution_count": 4,
   "id": "8a3471da",
   "metadata": {},
   "outputs": [
    {
     "data": {
      "text/plain": [
       "(1, 2, 3, 4, 5, 6)"
      ]
     },
     "execution_count": 4,
     "metadata": {},
     "output_type": "execute_result"
    }
   ],
   "source": [
    "T + (5, 6) # Concatenation"
   ]
  },
  {
   "cell_type": "code",
   "execution_count": 5,
   "id": "2d78c21a",
   "metadata": {},
   "outputs": [
    {
     "data": {
      "text/plain": [
       "1"
      ]
     },
     "execution_count": 5,
     "metadata": {},
     "output_type": "execute_result"
    }
   ],
   "source": [
    "T[0] # Indexing, slicing, and more"
   ]
  },
  {
   "cell_type": "code",
   "execution_count": 14,
   "id": "9b44d58d",
   "metadata": {},
   "outputs": [
    {
     "data": {
      "text/plain": [
       "3"
      ]
     },
     "execution_count": 14,
     "metadata": {},
     "output_type": "execute_result"
    }
   ],
   "source": [
    "# Tuples also have type-specific callable methods\n",
    "T.index(4) # Tuple methods: 4 appears at offset 3"
   ]
  },
  {
   "cell_type": "code",
   "execution_count": 15,
   "id": "d2e23fca",
   "metadata": {},
   "outputs": [
    {
     "data": {
      "text/plain": [
       "1"
      ]
     },
     "execution_count": 15,
     "metadata": {},
     "output_type": "execute_result"
    }
   ],
   "source": [
    "T.count(4) # 4 appears once"
   ]
  },
  {
   "cell_type": "code",
   "execution_count": 16,
   "id": "b4914e80",
   "metadata": {},
   "outputs": [
    {
     "ename": "TypeError",
     "evalue": "'tuple' object does not support item assignment",
     "output_type": "error",
     "traceback": [
      "\u001b[1;31m---------------------------------------------------------------------------\u001b[0m",
      "\u001b[1;31mTypeError\u001b[0m                                 Traceback (most recent call last)",
      "\u001b[1;32m~\\AppData\\Local\\Temp/ipykernel_14712/906920486.py\u001b[0m in \u001b[0;36m<module>\u001b[1;34m\u001b[0m\n\u001b[1;32m----> 1\u001b[1;33m \u001b[0mT\u001b[0m\u001b[1;33m[\u001b[0m\u001b[1;36m0\u001b[0m\u001b[1;33m]\u001b[0m \u001b[1;33m=\u001b[0m \u001b[1;36m2\u001b[0m \u001b[1;31m# Tuples are immutable\u001b[0m\u001b[1;33m\u001b[0m\u001b[1;33m\u001b[0m\u001b[0m\n\u001b[0m",
      "\u001b[1;31mTypeError\u001b[0m: 'tuple' object does not support item assignment"
     ]
    }
   ],
   "source": [
    "T[0] = 2 # Tuples are immutable"
   ]
  },
  {
   "cell_type": "code",
   "execution_count": 17,
   "id": "bb0f110b",
   "metadata": {},
   "outputs": [],
   "source": [
    "T = (2,) + T[1:] # Make a new tuple for a new value"
   ]
  },
  {
   "cell_type": "code",
   "execution_count": 18,
   "id": "b7a84798",
   "metadata": {},
   "outputs": [
    {
     "data": {
      "text/plain": [
       "(2, 2, 3, 4)"
      ]
     },
     "execution_count": 18,
     "metadata": {},
     "output_type": "execute_result"
    }
   ],
   "source": [
    "T"
   ]
  },
  {
   "cell_type": "code",
   "execution_count": 19,
   "id": "0ded5c6c",
   "metadata": {},
   "outputs": [],
   "source": [
    "# Like lists and dictionaries, tuples support mixed types and nesting, but they don’t grow\n",
    "# and shrink because they are immutable\n",
    "\n",
    "T = 'spam', 3.0, [11, 22, 33]"
   ]
  },
  {
   "cell_type": "code",
   "execution_count": 20,
   "id": "925ef88a",
   "metadata": {},
   "outputs": [
    {
     "data": {
      "text/plain": [
       "3.0"
      ]
     },
     "execution_count": 20,
     "metadata": {},
     "output_type": "execute_result"
    }
   ],
   "source": [
    "T[1]"
   ]
  },
  {
   "cell_type": "code",
   "execution_count": 21,
   "id": "68e91334",
   "metadata": {},
   "outputs": [
    {
     "data": {
      "text/plain": [
       "22"
      ]
     },
     "execution_count": 21,
     "metadata": {},
     "output_type": "execute_result"
    }
   ],
   "source": [
    "T[2][1]"
   ]
  },
  {
   "cell_type": "code",
   "execution_count": 22,
   "id": "8ca53de1",
   "metadata": {},
   "outputs": [
    {
     "ename": "AttributeError",
     "evalue": "'tuple' object has no attribute 'append'",
     "output_type": "error",
     "traceback": [
      "\u001b[1;31m---------------------------------------------------------------------------\u001b[0m",
      "\u001b[1;31mAttributeError\u001b[0m                            Traceback (most recent call last)",
      "\u001b[1;32m~\\AppData\\Local\\Temp/ipykernel_14712/2059392955.py\u001b[0m in \u001b[0;36m<module>\u001b[1;34m\u001b[0m\n\u001b[1;32m----> 1\u001b[1;33m \u001b[0mT\u001b[0m\u001b[1;33m.\u001b[0m\u001b[0mappend\u001b[0m\u001b[1;33m(\u001b[0m\u001b[1;36m4\u001b[0m\u001b[1;33m)\u001b[0m\u001b[1;33m\u001b[0m\u001b[1;33m\u001b[0m\u001b[0m\n\u001b[0m",
      "\u001b[1;31mAttributeError\u001b[0m: 'tuple' object has no attribute 'append'"
     ]
    }
   ],
   "source": [
    "T.append(4)"
   ]
  },
  {
   "cell_type": "markdown",
   "id": "bd165715",
   "metadata": {},
   "source": [
    "### Why Tuples?\n",
    "\n",
    "If you pass a collection of objects around your program as a list, it can be changed\n",
    "anywhere; if you use a tuple, it cannot. That is, tuples provide a sort of integrity constraint\n",
    "that is convenient in programs larger than those we’ll write here"
   ]
  }
 ],
 "metadata": {
  "kernelspec": {
   "display_name": "Python 3 (ipykernel)",
   "language": "python",
   "name": "python3"
  },
  "language_info": {
   "codemirror_mode": {
    "name": "ipython",
    "version": 3
   },
   "file_extension": ".py",
   "mimetype": "text/x-python",
   "name": "python",
   "nbconvert_exporter": "python",
   "pygments_lexer": "ipython3",
   "version": "3.9.7"
  }
 },
 "nbformat": 4,
 "nbformat_minor": 5
}
