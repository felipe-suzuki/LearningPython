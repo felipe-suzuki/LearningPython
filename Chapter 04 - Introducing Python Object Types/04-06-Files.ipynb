{
 "cells": [
  {
   "cell_type": "markdown",
   "id": "5508cce7",
   "metadata": {},
   "source": [
    "## Files\n",
    "\n",
    "File objects are Python code’s main interface to external files on your computer. They\n",
    "can be used to read and write text memos, audio clips, Excel documents, saved email\n",
    "messages, and whatever else you happen to have stored on your machine. Files are a\n",
    "core type, but they’re something of an oddball—there is no specific literal syntax for\n",
    "creating them. Rather, to create a file object, you call the built-in open function, passing\n",
    "in an external filename and an optional processing mode as strings."
   ]
  },
  {
   "cell_type": "code",
   "execution_count": 1,
   "id": "27ece8bc",
   "metadata": {},
   "outputs": [],
   "source": [
    "# For example, to create a text output file, you would pass in its name and the 'w' processing\n",
    "# mode string to write data:\n",
    "\n",
    "f = open('data.txt', 'w') # Make a new file in output mode ('w' is write)"
   ]
  },
  {
   "cell_type": "code",
   "execution_count": 2,
   "id": "864f4d57",
   "metadata": {},
   "outputs": [
    {
     "data": {
      "text/plain": [
       "6"
      ]
     },
     "execution_count": 2,
     "metadata": {},
     "output_type": "execute_result"
    }
   ],
   "source": [
    "f.write('Hello\\n') # Write strings of characters to it"
   ]
  },
  {
   "cell_type": "code",
   "execution_count": 3,
   "id": "c95c17d5",
   "metadata": {},
   "outputs": [
    {
     "data": {
      "text/plain": [
       "6"
      ]
     },
     "execution_count": 3,
     "metadata": {},
     "output_type": "execute_result"
    }
   ],
   "source": [
    "f.write('world\\n') # Return number of items written in Python 3.X"
   ]
  },
  {
   "cell_type": "code",
   "execution_count": 4,
   "id": "ac53ef8a",
   "metadata": {},
   "outputs": [],
   "source": [
    "f.close() # Close to flush output buffers to disk"
   ]
  },
  {
   "cell_type": "markdown",
   "id": "3dce15ec",
   "metadata": {},
   "source": [
    "This creates a file in the current directory and writes text to it\n",
    "To read back what you just wrote, reopen the file in 'r' processing mode, for reading text input\n",
    "—this is the default if you omit the mode in the call. Then read the file’s content into\n",
    "a string, and display it. A file’s contents are always a string in your script, regardless of\n",
    "the type of data the file contains:"
   ]
  },
  {
   "cell_type": "code",
   "execution_count": 5,
   "id": "2ec5806b",
   "metadata": {},
   "outputs": [],
   "source": [
    "f = open('data.txt') # 'r' (read) is the default processing mode"
   ]
  },
  {
   "cell_type": "code",
   "execution_count": 6,
   "id": "74fe6fb9",
   "metadata": {},
   "outputs": [],
   "source": [
    "text = f.read() # Read entire file into a string"
   ]
  },
  {
   "cell_type": "code",
   "execution_count": 7,
   "id": "a305a2da",
   "metadata": {},
   "outputs": [
    {
     "data": {
      "text/plain": [
       "'Hello\\nworld\\n'"
      ]
     },
     "execution_count": 7,
     "metadata": {},
     "output_type": "execute_result"
    }
   ],
   "source": [
    "text"
   ]
  },
  {
   "cell_type": "code",
   "execution_count": 8,
   "id": "b1cc7d03",
   "metadata": {},
   "outputs": [
    {
     "name": "stdout",
     "output_type": "stream",
     "text": [
      "Hello\n",
      "world\n",
      "\n"
     ]
    }
   ],
   "source": [
    "print(text) # print interprets control characters"
   ]
  },
  {
   "cell_type": "code",
   "execution_count": 9,
   "id": "fb6cd106",
   "metadata": {},
   "outputs": [
    {
     "data": {
      "text/plain": [
       "['Hello', 'world']"
      ]
     },
     "execution_count": 9,
     "metadata": {},
     "output_type": "execute_result"
    }
   ],
   "source": [
    "text.split() # File content is always a string"
   ]
  },
  {
   "cell_type": "markdown",
   "id": "ea7936e9",
   "metadata": {},
   "source": [
    "Other file object methods support additional features will be covered in the future.\n",
    "As we’ll see later, though, the best way to read a file today is to not read it at \n",
    "all—files provide an iterator that automatically\n",
    "reads line by line in for loops and other contexts:"
   ]
  },
  {
   "cell_type": "code",
   "execution_count": 10,
   "id": "f9e07852",
   "metadata": {},
   "outputs": [
    {
     "name": "stdout",
     "output_type": "stream",
     "text": [
      "Hello\n",
      "\n",
      "world\n",
      "\n"
     ]
    }
   ],
   "source": [
    "for line in open('data.txt'): print(line)"
   ]
  }
 ],
 "metadata": {
  "kernelspec": {
   "display_name": "Python 3 (ipykernel)",
   "language": "python",
   "name": "python3"
  },
  "language_info": {
   "codemirror_mode": {
    "name": "ipython",
    "version": 3
   },
   "file_extension": ".py",
   "mimetype": "text/x-python",
   "name": "python",
   "nbconvert_exporter": "python",
   "pygments_lexer": "ipython3",
   "version": "3.9.7"
  }
 },
 "nbformat": 4,
 "nbformat_minor": 5
}
