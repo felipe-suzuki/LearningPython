{
 "cells": [
  {
   "cell_type": "markdown",
   "id": "afaed95e",
   "metadata": {},
   "source": [
    "## Dictionaries\n",
    "\n",
    "Python dictionaries are not sequences at all, but are instead known as mappings. Mappings are also collections of other objects, but they store objects by key instead of by relative position. In fact, mappings don’t maintain any reliable left-to-right order; they simply map keys to associated values. Dictionaries, the only mapping type in Python’s core objects set, are also mutable: like lists, they may be changed in place and can grow and shrink on demand. Also like lists, they are a flexible tool for representing collections, but their more mnemonic keys are better suited when a collection’s items are named or\n",
    "labeled—fields of a database record, for example."
   ]
  },
  {
   "cell_type": "markdown",
   "id": "62b0a0c8",
   "metadata": {},
   "source": [
    "### Mapping Operations\n",
    "\n",
    "When written as literals, dictionaries are coded in curly braces and consist of a series\n",
    "of “key: value” pairs."
   ]
  },
  {
   "cell_type": "code",
   "execution_count": 2,
   "id": "e12c840b",
   "metadata": {},
   "outputs": [],
   "source": [
    "D = {'food': 'Spam', 'quantity': 4, 'color': 'pink'}"
   ]
  },
  {
   "cell_type": "code",
   "execution_count": 3,
   "id": "0175436e",
   "metadata": {},
   "outputs": [
    {
     "data": {
      "text/plain": [
       "'Spam'"
      ]
     },
     "execution_count": 3,
     "metadata": {},
     "output_type": "execute_result"
    }
   ],
   "source": [
    "D['food'] # Fetch value of key 'food'"
   ]
  },
  {
   "cell_type": "code",
   "execution_count": 4,
   "id": "1b38ee7f",
   "metadata": {},
   "outputs": [],
   "source": [
    "D['quantity'] += 1 # Add 1 to 'quantity' value"
   ]
  },
  {
   "cell_type": "code",
   "execution_count": 5,
   "id": "5ee7018b",
   "metadata": {},
   "outputs": [
    {
     "data": {
      "text/plain": [
       "{'food': 'Spam', 'quantity': 5, 'color': 'pink'}"
      ]
     },
     "execution_count": 5,
     "metadata": {},
     "output_type": "execute_result"
    }
   ],
   "source": [
    "D"
   ]
  },
  {
   "cell_type": "markdown",
   "id": "c414ad6f",
   "metadata": {},
   "source": [
    "The following code, for example, starts with an empty dictionary\n",
    "and fills it out one key at a time. Unlike out-of-bounds assignments in lists, which are\n",
    "forbidden, assignments to new dictionary keys create those keys:"
   ]
  },
  {
   "cell_type": "code",
   "execution_count": 7,
   "id": "364a18cc",
   "metadata": {},
   "outputs": [],
   "source": [
    "D = {} # Create empty dictionary\n",
    "D['name'] = 'Bob' # Create keys by assignment\n",
    "D['job'] = 'dev'\n",
    "D['age'] = 40"
   ]
  },
  {
   "cell_type": "code",
   "execution_count": 8,
   "id": "9ad242d5",
   "metadata": {},
   "outputs": [
    {
     "data": {
      "text/plain": [
       "{'name': 'Bob', 'job': 'dev', 'age': 40}"
      ]
     },
     "execution_count": 8,
     "metadata": {},
     "output_type": "execute_result"
    }
   ],
   "source": [
    "D"
   ]
  },
  {
   "cell_type": "code",
   "execution_count": 9,
   "id": "0da484f8",
   "metadata": {},
   "outputs": [
    {
     "name": "stdout",
     "output_type": "stream",
     "text": [
      "Bob\n"
     ]
    }
   ],
   "source": [
    "print(D['name'])"
   ]
  },
  {
   "cell_type": "markdown",
   "id": "6935fda8",
   "metadata": {},
   "source": [
    "We can also make dictionaries by passing to the\n",
    "type name\n",
    "dict\n",
    "either keyword arguments (a special\n",
    "syntax in function calls), or the result\n",
    "name=value\n",
    "of zipping together sequences of keys and values obtained at runtime (e.g., from files)."
   ]
  },
  {
   "cell_type": "code",
   "execution_count": 10,
   "id": "1a8f42f0",
   "metadata": {},
   "outputs": [],
   "source": [
    "bob1 = dict(name='Bob', job='dev', age=40) # Keywords"
   ]
  },
  {
   "cell_type": "code",
   "execution_count": 11,
   "id": "44577298",
   "metadata": {},
   "outputs": [
    {
     "data": {
      "text/plain": [
       "{'name': 'Bob', 'job': 'dev', 'age': 40}"
      ]
     },
     "execution_count": 11,
     "metadata": {},
     "output_type": "execute_result"
    }
   ],
   "source": [
    "bob1"
   ]
  },
  {
   "cell_type": "code",
   "execution_count": 12,
   "id": "d1b00ec6",
   "metadata": {},
   "outputs": [],
   "source": [
    "bob2 = dict(zip(['name', 'job', 'age'], ['Bob', 'dev', 40])) # Zipping"
   ]
  },
  {
   "cell_type": "code",
   "execution_count": 13,
   "id": "9cc00368",
   "metadata": {},
   "outputs": [
    {
     "data": {
      "text/plain": [
       "{'name': 'Bob', 'job': 'dev', 'age': 40}"
      ]
     },
     "execution_count": 13,
     "metadata": {},
     "output_type": "execute_result"
    }
   ],
   "source": [
    "bob2"
   ]
  },
  {
   "cell_type": "markdown",
   "id": "306e6211",
   "metadata": {},
   "source": [
    "## Nesting Revisited\n",
    "\n",
    "Perhaps we need to\n",
    "record a first name and a last name, along with multiple job titles. This leads to another\n",
    "application of Python’s object nesting in action. The following dictionary, coded all at\n",
    "once as a literal, captures more structured information:"
   ]
  },
  {
   "cell_type": "code",
   "execution_count": 14,
   "id": "6450c2dc",
   "metadata": {},
   "outputs": [],
   "source": [
    "rec = {'name': {'first': 'Bob', 'last': 'Smith'},\n",
    "'jobs': ['dev', 'mgr'],\n",
    "'age': 40.5}"
   ]
  },
  {
   "cell_type": "code",
   "execution_count": 15,
   "id": "b79054e4",
   "metadata": {},
   "outputs": [
    {
     "data": {
      "text/plain": [
       "{'first': 'Bob', 'last': 'Smith'}"
      ]
     },
     "execution_count": 15,
     "metadata": {},
     "output_type": "execute_result"
    }
   ],
   "source": [
    "# Acessing the components\n",
    "\n",
    "rec['name'] # 'name' is a nested dictionary"
   ]
  },
  {
   "cell_type": "code",
   "execution_count": 16,
   "id": "4b87cf69",
   "metadata": {},
   "outputs": [
    {
     "data": {
      "text/plain": [
       "'Smith'"
      ]
     },
     "execution_count": 16,
     "metadata": {},
     "output_type": "execute_result"
    }
   ],
   "source": [
    "rec['name']['last'] # Index the nested dictionary"
   ]
  },
  {
   "cell_type": "code",
   "execution_count": 17,
   "id": "f0582d4a",
   "metadata": {},
   "outputs": [
    {
     "data": {
      "text/plain": [
       "['dev', 'mgr']"
      ]
     },
     "execution_count": 17,
     "metadata": {},
     "output_type": "execute_result"
    }
   ],
   "source": [
    "rec['jobs'] # 'jobs' is a nested list"
   ]
  },
  {
   "cell_type": "code",
   "execution_count": 18,
   "id": "4efe923c",
   "metadata": {},
   "outputs": [
    {
     "data": {
      "text/plain": [
       "'mgr'"
      ]
     },
     "execution_count": 18,
     "metadata": {},
     "output_type": "execute_result"
    }
   ],
   "source": [
    "rec['jobs'][-1] # Index the nested list"
   ]
  },
  {
   "cell_type": "code",
   "execution_count": 19,
   "id": "f5fda612",
   "metadata": {},
   "outputs": [],
   "source": [
    "rec['jobs'].append('janitor') # Expand Bob's job description in place"
   ]
  },
  {
   "cell_type": "code",
   "execution_count": 20,
   "id": "8e7b7154",
   "metadata": {},
   "outputs": [
    {
     "data": {
      "text/plain": [
       "{'name': {'first': 'Bob', 'last': 'Smith'},\n",
       " 'jobs': ['dev', 'mgr', 'janitor'],\n",
       " 'age': 40.5}"
      ]
     },
     "execution_count": 20,
     "metadata": {},
     "output_type": "execute_result"
    }
   ],
   "source": [
    "rec"
   ]
  },
  {
   "cell_type": "code",
   "execution_count": 21,
   "id": "a45eba3e",
   "metadata": {},
   "outputs": [],
   "source": [
    "# Cleaning the variable\n",
    "rec = 0 # Now the object's space is reclaimed"
   ]
  },
  {
   "cell_type": "markdown",
   "id": "e42aa31d",
   "metadata": {},
   "source": [
    "## Missing Keys: if Tests\n",
    "\n",
    "We can assign to a new key to expand a dictionary, but fetching a nonexistent key is a mistake"
   ]
  },
  {
   "cell_type": "code",
   "execution_count": 22,
   "id": "df2ef9dc",
   "metadata": {},
   "outputs": [],
   "source": [
    "D = {'a': 1, 'b': 2, 'c': 3}"
   ]
  },
  {
   "cell_type": "code",
   "execution_count": 23,
   "id": "b4c77cda",
   "metadata": {},
   "outputs": [
    {
     "data": {
      "text/plain": [
       "{'a': 1, 'b': 2, 'c': 3}"
      ]
     },
     "execution_count": 23,
     "metadata": {},
     "output_type": "execute_result"
    }
   ],
   "source": [
    "D"
   ]
  },
  {
   "cell_type": "code",
   "execution_count": 24,
   "id": "bc82a8e9",
   "metadata": {},
   "outputs": [],
   "source": [
    "D['e'] = 99 # Assigning new keys grows dictionaries"
   ]
  },
  {
   "cell_type": "code",
   "execution_count": 25,
   "id": "c04fdba5",
   "metadata": {},
   "outputs": [
    {
     "data": {
      "text/plain": [
       "{'a': 1, 'b': 2, 'c': 3, 'e': 99}"
      ]
     },
     "execution_count": 25,
     "metadata": {},
     "output_type": "execute_result"
    }
   ],
   "source": [
    "D"
   ]
  },
  {
   "cell_type": "code",
   "execution_count": 26,
   "id": "462b1e6b",
   "metadata": {},
   "outputs": [
    {
     "ename": "KeyError",
     "evalue": "'f'",
     "output_type": "error",
     "traceback": [
      "\u001b[1;31m---------------------------------------------------------------------------\u001b[0m",
      "\u001b[1;31mKeyError\u001b[0m                                  Traceback (most recent call last)",
      "\u001b[1;32m~\\AppData\\Local\\Temp/ipykernel_8520/2930553262.py\u001b[0m in \u001b[0;36m<module>\u001b[1;34m\u001b[0m\n\u001b[1;32m----> 1\u001b[1;33m \u001b[0mD\u001b[0m\u001b[1;33m[\u001b[0m\u001b[1;34m'f'\u001b[0m\u001b[1;33m]\u001b[0m\u001b[1;33m\u001b[0m\u001b[1;33m\u001b[0m\u001b[0m\n\u001b[0m",
      "\u001b[1;31mKeyError\u001b[0m: 'f'"
     ]
    }
   ],
   "source": [
    "D['f']"
   ]
  },
  {
   "cell_type": "markdown",
   "id": "56ed5d2c",
   "metadata": {},
   "source": [
    "The dictionary\n",
    "membership expression allows us\n",
    "in\n",
    "to query the existence of a key and branch on the result with a Python\n",
    "statement\n",
    "if"
   ]
  },
  {
   "cell_type": "code",
   "execution_count": 27,
   "id": "c5f9d38c",
   "metadata": {},
   "outputs": [
    {
     "data": {
      "text/plain": [
       "False"
      ]
     },
     "execution_count": 27,
     "metadata": {},
     "output_type": "execute_result"
    }
   ],
   "source": [
    "'f' in D"
   ]
  },
  {
   "cell_type": "code",
   "execution_count": 28,
   "id": "87073263",
   "metadata": {},
   "outputs": [
    {
     "name": "stdout",
     "output_type": "stream",
     "text": [
      "missing\n"
     ]
    }
   ],
   "source": [
    "if not 'f' in D: # Python's sole selection statement\n",
    "    print('missing')"
   ]
  },
  {
   "cell_type": "markdown",
   "id": "6dd78ac6",
   "metadata": {},
   "source": [
    "The if statement consists of the word if followed by an expression that\n",
    "is interpreted as a true or false result, followed by a block of code to run if the test is\n",
    "true."
   ]
  },
  {
   "cell_type": "code",
   "execution_count": 29,
   "id": "7a4b9201",
   "metadata": {},
   "outputs": [
    {
     "name": "stdout",
     "output_type": "stream",
     "text": [
      "missing\n",
      "no, really...\n"
     ]
    }
   ],
   "source": [
    "if not 'f' in D:\n",
    "    print('missing')\n",
    "    print('no, really...') # Statement blocks are indented"
   ]
  },
  {
   "cell_type": "markdown",
   "id": "348bbcb9",
   "metadata": {},
   "source": [
    "Besides the in test, there are a variety of ways to avoid accessing nonexistent keys in\n",
    "in the dictionaries we create: the get method, a conditional index with a default; and the if/else\n",
    "ternary (three-part) expression, which is essentially an if statement squeezed onto a single line."
   ]
  },
  {
   "cell_type": "code",
   "execution_count": 31,
   "id": "1416a536",
   "metadata": {},
   "outputs": [],
   "source": [
    "value = D.get('x', 0) # Index but with a default"
   ]
  },
  {
   "cell_type": "code",
   "execution_count": 32,
   "id": "7cf8a205",
   "metadata": {},
   "outputs": [
    {
     "data": {
      "text/plain": [
       "0"
      ]
     },
     "execution_count": 32,
     "metadata": {},
     "output_type": "execute_result"
    }
   ],
   "source": [
    "value"
   ]
  },
  {
   "cell_type": "code",
   "execution_count": 33,
   "id": "71013461",
   "metadata": {},
   "outputs": [],
   "source": [
    "value = D['x'] if 'x' in D else 0 # if/else expression form"
   ]
  },
  {
   "cell_type": "code",
   "execution_count": 34,
   "id": "7f1ad743",
   "metadata": {},
   "outputs": [
    {
     "data": {
      "text/plain": [
       "0"
      ]
     },
     "execution_count": 34,
     "metadata": {},
     "output_type": "execute_result"
    }
   ],
   "source": [
    "value"
   ]
  },
  {
   "cell_type": "markdown",
   "id": "f4a7cb20",
   "metadata": {},
   "source": [
    "## Sorting Keys: for Loops\n",
    "\n",
    "One common solution to impose an order on a dictionary is to grab a list of keys with the dictionary keys method, sort\n",
    "that with the list sort method, and then step through the result with a Python for loop"
   ]
  },
  {
   "cell_type": "code",
   "execution_count": 41,
   "id": "4670d7fc",
   "metadata": {},
   "outputs": [],
   "source": [
    "D = {'a': 1, 'c': 3, 'b': 2}"
   ]
  },
  {
   "cell_type": "code",
   "execution_count": 42,
   "id": "bfb5e7e4",
   "metadata": {},
   "outputs": [
    {
     "data": {
      "text/plain": [
       "{'a': 1, 'c': 3, 'b': 2}"
      ]
     },
     "execution_count": 42,
     "metadata": {},
     "output_type": "execute_result"
    }
   ],
   "source": [
    "D"
   ]
  },
  {
   "cell_type": "code",
   "execution_count": 43,
   "id": "2763fc4c",
   "metadata": {},
   "outputs": [],
   "source": [
    "Ks = list(D.keys()) # Unordered keys list"
   ]
  },
  {
   "cell_type": "code",
   "execution_count": 44,
   "id": "91e6ff7b",
   "metadata": {},
   "outputs": [
    {
     "data": {
      "text/plain": [
       "['a', 'c', 'b']"
      ]
     },
     "execution_count": 44,
     "metadata": {},
     "output_type": "execute_result"
    }
   ],
   "source": [
    "Ks"
   ]
  },
  {
   "cell_type": "code",
   "execution_count": 45,
   "id": "74070d52",
   "metadata": {},
   "outputs": [],
   "source": [
    "Ks.sort() # Sorted keys list"
   ]
  },
  {
   "cell_type": "code",
   "execution_count": 46,
   "id": "bf127662",
   "metadata": {},
   "outputs": [
    {
     "data": {
      "text/plain": [
       "['a', 'b', 'c']"
      ]
     },
     "execution_count": 46,
     "metadata": {},
     "output_type": "execute_result"
    }
   ],
   "source": [
    "Ks"
   ]
  },
  {
   "cell_type": "code",
   "execution_count": 47,
   "id": "2ddb91a1",
   "metadata": {},
   "outputs": [
    {
     "name": "stdout",
     "output_type": "stream",
     "text": [
      "a => 1\n",
      "b => 2\n",
      "c => 3\n"
     ]
    }
   ],
   "source": [
    "for key in Ks: # Iterate though sorted keys\n",
    "    print(key, '=>', D[key])"
   ]
  },
  {
   "cell_type": "markdown",
   "id": "3a5f64a8",
   "metadata": {},
   "source": [
    "Sorted built-in function returns the result and sorts a variety of object types, in this case sorting\n",
    "dictionary keys automatically:"
   ]
  },
  {
   "cell_type": "code",
   "execution_count": 48,
   "id": "19afdcc2",
   "metadata": {},
   "outputs": [
    {
     "data": {
      "text/plain": [
       "{'a': 1, 'c': 3, 'b': 2}"
      ]
     },
     "execution_count": 48,
     "metadata": {},
     "output_type": "execute_result"
    }
   ],
   "source": [
    "D"
   ]
  },
  {
   "cell_type": "code",
   "execution_count": 49,
   "id": "78e6190c",
   "metadata": {},
   "outputs": [
    {
     "name": "stdout",
     "output_type": "stream",
     "text": [
      "a => 1\n",
      "b => 2\n",
      "c => 3\n"
     ]
    }
   ],
   "source": [
    "for key in sorted(D):\n",
    "    print(key, '=>', D[key])"
   ]
  },
  {
   "cell_type": "markdown",
   "id": "e212f47b",
   "metadata": {},
   "source": [
    "The for loop used above is a simple and efficient way to step through all the items in a sequence\n",
    "and run a block of code for each item in turn. A user-defined loop variable (key, here)\n",
    "is used to reference the current item each time through. The net effect in our example\n",
    "is to print the unordered dictionary’s keys and values, in sorted-key order."
   ]
  },
  {
   "cell_type": "markdown",
   "id": "d7fa3cbb",
   "metadata": {},
   "source": [
    "The for\n",
    "loop, and its more general colleague the while\n",
    "loop, are the main ways we code\n",
    "repetitive tasks as statements in our scripts."
   ]
  },
  {
   "cell_type": "code",
   "execution_count": 50,
   "id": "d881b13b",
   "metadata": {},
   "outputs": [
    {
     "name": "stdout",
     "output_type": "stream",
     "text": [
      "S\n",
      "P\n",
      "A\n",
      "M\n"
     ]
    }
   ],
   "source": [
    "# Here, for example, it is stepping across the characters in a string, printing the\n",
    "# uppercase version of each as it goes:\n",
    "for c in 'spam':\n",
    "    print(c.upper())"
   ]
  },
  {
   "cell_type": "markdown",
   "id": "b84fb6d8",
   "metadata": {},
   "source": [
    "Python’s while loop is a more general sort of looping tool; it’s not limited to stepping\n",
    "across sequences, but generally requires more code to do so:"
   ]
  },
  {
   "cell_type": "code",
   "execution_count": 51,
   "id": "ce181268",
   "metadata": {},
   "outputs": [
    {
     "name": "stdout",
     "output_type": "stream",
     "text": [
      "spam!spam!spam!spam!\n",
      "spam!spam!spam!\n",
      "spam!spam!\n",
      "spam!\n"
     ]
    }
   ],
   "source": [
    "x = 4\n",
    "while x > 0:\n",
    "    print('spam!' * x)\n",
    "    x -= 1"
   ]
  },
  {
   "cell_type": "markdown",
   "id": "60cbe8d2",
   "metadata": {},
   "source": [
    "## Iteration and Optimization\n",
    "\n",
    "An object is iterable if it is either a physically stored sequence in memory,\n",
    "or an object that generates one item at a time in the context of an iteration operation\n",
    "—a sort of “virtual” sequence. More formally, both types of objects are considered\n",
    "iterable because they support the iteration protocol—they respond to the iter call with\n",
    "an object that advances in response to next calls and raises an exception when finished\n",
    "producing values."
   ]
  },
  {
   "cell_type": "markdown",
   "id": "6ac34dbd",
   "metadata": {},
   "source": [
    "The iteration protocol will later be better explained.For now, keep in\n",
    "mind that every Python tool that scans an object from left to right uses the iteration\n",
    "protocol.\n",
    "\n",
    "It may also help you to see that any list comprehension expression, such as this one, which computes the squares of a list of numbers:"
   ]
  },
  {
   "cell_type": "code",
   "execution_count": 52,
   "id": "ec660279",
   "metadata": {},
   "outputs": [
    {
     "data": {
      "text/plain": [
       "[1, 4, 9, 16, 25]"
      ]
     },
     "execution_count": 52,
     "metadata": {},
     "output_type": "execute_result"
    }
   ],
   "source": [
    "squares = [x ** 2 for x in [1, 2, 3, 4, 5]]\n",
    "squares"
   ]
  },
  {
   "cell_type": "code",
   "execution_count": 53,
   "id": "726a1492",
   "metadata": {},
   "outputs": [],
   "source": [
    "# can always be coded as an equivalent for loop that builds the \n",
    "# result list manually by appending as it goes:\n",
    "\n",
    "squares = []\n",
    "for x in [1, 2, 3, 4, 5]: # This is what a list comprehension does\n",
    "    squares.append(x ** 2) # Both run the iteration protocol internally"
   ]
  },
  {
   "cell_type": "code",
   "execution_count": 54,
   "id": "5f3772b3",
   "metadata": {},
   "outputs": [
    {
     "data": {
      "text/plain": [
       "[1, 4, 9, 16, 25]"
      ]
     },
     "execution_count": 54,
     "metadata": {},
     "output_type": "execute_result"
    }
   ],
   "source": [
    "squares"
   ]
  },
  {
   "cell_type": "markdown",
   "id": "1a5b102f",
   "metadata": {},
   "source": [
    "Both tools leverage the iteration protocol internally and produce the same result. The\n",
    "list comprehension, though, and related functional programming tools like\n",
    "map and filter, will often run faster than a\n",
    "loop today on some types of code (perhaps even\n",
    "for\n",
    "twice as fast)—a property that could matter in your programs for large data sets."
   ]
  }
 ],
 "metadata": {
  "kernelspec": {
   "display_name": "Python 3 (ipykernel)",
   "language": "python",
   "name": "python3"
  },
  "language_info": {
   "codemirror_mode": {
    "name": "ipython",
    "version": 3
   },
   "file_extension": ".py",
   "mimetype": "text/x-python",
   "name": "python",
   "nbconvert_exporter": "python",
   "pygments_lexer": "ipython3",
   "version": "3.9.7"
  }
 },
 "nbformat": 4,
 "nbformat_minor": 5
}
