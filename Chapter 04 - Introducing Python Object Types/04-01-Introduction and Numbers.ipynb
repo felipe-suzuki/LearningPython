{
 "cells": [
  {
   "cell_type": "markdown",
   "id": "db2806b1",
   "metadata": {},
   "source": [
    "### The Python Conceptual Hierarchy\n",
    "\n",
    "1. Programs are composed of modules.\n",
    "2. Modules contain statements.\n",
    "3. Statements contain expressions.\n",
    "4. Expressions create and process objects.\n",
    "\n",
    "#### Why Use Built-in Types?\n",
    "\n",
    "• Built-in objects make programs easy to write\\\n",
    "• Built-in objects are components of extensions\\\n",
    "• Built-in objects are often more efficient than custom data structures\\\n",
    "• Built-in objects are a standard part of the language"
   ]
  },
  {
   "cell_type": "markdown",
   "id": "c07ce280",
   "metadata": {},
   "source": [
    "### Python’s Core Data Types\n",
    "\n",
    "Table 4-1. Built-in objects preview\n",
    "\n",
    "Object type ------> Example literals/creation\\\n",
    "Numbers ------> 1234, 3.1415, 3+4j, 0b111, Decimal(), Fraction()\\\n",
    "Strings ------> 'spam', \"Bob's\", b'a\\x01c', u'sp\\xc4m'\\\n",
    "Lists ------> [1, [2, 'three'], 4.5], list(range(10))\\\n",
    "Dictionaries ------> {'food': 'spam', 'taste': 'yum'}, dict(hours=10)\\\n",
    "Tuples ------> (1, 'spam', 4, 'U'), tuple('spam'), namedtuple\\\n",
    "Files ------> open('eggs.txt'), open(r'C:\\ham.bin', 'wb')\\\n",
    "Sets ------> set('abc'), {'a', 'b', 'c'}\\\n",
    "Other core types ------> Booleans, types, None\\\n",
    "Program unit types ------> Functions, modules, classes (Part IV, Part V, Part VI)\\\n",
    "Implementation-related types ------> Compiled code, stack tracebacks (Part IV, Part VII)"
   ]
  },
  {
   "cell_type": "code",
   "execution_count": 3,
   "id": "4ba6cd45",
   "metadata": {},
   "outputs": [
    {
     "data": {
      "text/plain": [
       "'spam'"
      ]
     },
     "execution_count": 3,
     "metadata": {},
     "output_type": "execute_result"
    }
   ],
   "source": [
    "# running a literal expression that generates and returns a new string object\n",
    "'spam'"
   ]
  },
  {
   "cell_type": "markdown",
   "id": "c902f1e7",
   "metadata": {},
   "source": [
    "#### IMPORTANT\n",
    "Once you create an object, you bind its operation set for all time you can \n",
    "perform only string operations on a string and list operations on a list"
   ]
  },
  {
   "cell_type": "markdown",
   "id": "f212a407",
   "metadata": {},
   "source": [
    "### NUMBERS\n",
    "\n",
    "Python’s core objects set includes the usual suspects: integers that have no\n",
    "fractional part, floating-point numbers that do, and more exotic types—complex numbers\n",
    "with imaginary parts, decimals with fixed precision, rationals with numerator and\n",
    "denominator, and full-featured sets"
   ]
  },
  {
   "cell_type": "code",
   "execution_count": 4,
   "id": "3679b6e4",
   "metadata": {},
   "outputs": [
    {
     "data": {
      "text/plain": [
       "345"
      ]
     },
     "execution_count": 4,
     "metadata": {},
     "output_type": "execute_result"
    }
   ],
   "source": [
    "123 + 222 # Integer addition"
   ]
  },
  {
   "cell_type": "code",
   "execution_count": 5,
   "id": "486c6d92",
   "metadata": {},
   "outputs": [
    {
     "data": {
      "text/plain": [
       "6.0"
      ]
     },
     "execution_count": 5,
     "metadata": {},
     "output_type": "execute_result"
    }
   ],
   "source": [
    "1.5 * 4 # Floating-point multiplication"
   ]
  },
  {
   "cell_type": "code",
   "execution_count": 6,
   "id": "22687df6",
   "metadata": {},
   "outputs": [
    {
     "data": {
      "text/plain": [
       "1267650600228229401496703205376"
      ]
     },
     "execution_count": 6,
     "metadata": {},
     "output_type": "execute_result"
    }
   ],
   "source": [
    "2 ** 100 # 2 to the power 100"
   ]
  },
  {
   "cell_type": "code",
   "execution_count": 7,
   "id": "490e174e",
   "metadata": {},
   "outputs": [
    {
     "data": {
      "text/plain": [
       "301030"
      ]
     },
     "execution_count": 7,
     "metadata": {},
     "output_type": "execute_result"
    }
   ],
   "source": [
    "# This nested-call form works from inside out—first converting the ** result’s number\n",
    "# to a string of digits with the built-in str function, and then getting the length of the\n",
    "# resulting string with len\n",
    "\n",
    "len(str(2 ** 1000000)) # How many digits in a really BIG number?"
   ]
  },
  {
   "cell_type": "code",
   "execution_count": 8,
   "id": "61cbf8f0",
   "metadata": {},
   "outputs": [
    {
     "data": {
      "text/plain": [
       "3.141592653589793"
      ]
     },
     "execution_count": 8,
     "metadata": {},
     "output_type": "execute_result"
    }
   ],
   "source": [
    "# modules are just packages of additional tools that we import to use\n",
    "import math\n",
    "math.pi"
   ]
  },
  {
   "cell_type": "code",
   "execution_count": 9,
   "id": "6beed872",
   "metadata": {},
   "outputs": [
    {
     "data": {
      "text/plain": [
       "9.219544457292887"
      ]
     },
     "execution_count": 9,
     "metadata": {},
     "output_type": "execute_result"
    }
   ],
   "source": [
    "# square root = math.sqrt()\n",
    "math.sqrt(85)"
   ]
  },
  {
   "cell_type": "code",
   "execution_count": 10,
   "id": "ff86ee82",
   "metadata": {},
   "outputs": [
    {
     "data": {
      "text/plain": [
       "0.9865272550823003"
      ]
     },
     "execution_count": 10,
     "metadata": {},
     "output_type": "execute_result"
    }
   ],
   "source": [
    "# random module performs random-number generation and random selections\n",
    "import random\n",
    "random.random()"
   ]
  },
  {
   "cell_type": "code",
   "execution_count": 11,
   "id": "cf028f74",
   "metadata": {},
   "outputs": [
    {
     "data": {
      "text/plain": [
       "3"
      ]
     },
     "execution_count": 11,
     "metadata": {},
     "output_type": "execute_result"
    }
   ],
   "source": [
    "# chooses randomly from a list\n",
    "random.choice([1, 2, 3, 4])"
   ]
  }
 ],
 "metadata": {
  "kernelspec": {
   "display_name": "Python 3 (ipykernel)",
   "language": "python",
   "name": "python3"
  },
  "language_info": {
   "codemirror_mode": {
    "name": "ipython",
    "version": 3
   },
   "file_extension": ".py",
   "mimetype": "text/x-python",
   "name": "python",
   "nbconvert_exporter": "python",
   "pygments_lexer": "ipython3",
   "version": "3.9.7"
  }
 },
 "nbformat": 4,
 "nbformat_minor": 5
}
