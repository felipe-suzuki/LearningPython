{
 "cells": [
  {
   "cell_type": "markdown",
   "id": "6679f84e",
   "metadata": {},
   "source": [
    "## Strings\n",
    "\n",
    "Strings are used to record both textual information as well as arbitrary collections\n",
    "of bytes. They are our first example of what in Python we call a sequence—\n",
    "a positionally ordered collection of other objects. \n",
    "Sequences maintain a left-to-right order among the items they contain:\n",
    "their items are stored and fetched by their relative positions. Strictly speaking, strings\n",
    "are sequences of one-character strings; other, more general sequence types include\n",
    "lists and tuples, covered later."
   ]
  },
  {
   "cell_type": "markdown",
   "id": "65040a08",
   "metadata": {},
   "source": [
    "### Sequence Operations"
   ]
  },
  {
   "cell_type": "code",
   "execution_count": 1,
   "id": "3226097c",
   "metadata": {},
   "outputs": [
    {
     "data": {
      "text/plain": [
       "'p'"
      ]
     },
     "execution_count": 1,
     "metadata": {},
     "output_type": "execute_result"
    }
   ],
   "source": [
    "# if we have a four-character string coded inside quotes,\n",
    "# we can verify its length with the built-in len function and fetch its\n",
    "# components with indexing expressions\n",
    "\n",
    "S = 'Spam' # Make a 4-character string, and assign it to a name\n",
    "len(S)     # Length"
   ]
  },
  {
   "cell_type": "markdown",
   "id": "091ae8ab",
   "metadata": {},
   "source": [
    "### In Python, indexes are coded as offsets from the front, and so start from 0: the first item is at index 0, the second is at index 1, and so on."
   ]
  },
  {
   "cell_type": "code",
   "execution_count": 7,
   "id": "610c7b00",
   "metadata": {},
   "outputs": [
    {
     "data": {
      "text/plain": [
       "'S'"
      ]
     },
     "execution_count": 7,
     "metadata": {},
     "output_type": "execute_result"
    }
   ],
   "source": [
    "S[0] # The first item in S, indexing by zero-based position"
   ]
  },
  {
   "cell_type": "code",
   "execution_count": 3,
   "id": "e67a76e8",
   "metadata": {},
   "outputs": [
    {
     "data": {
      "text/plain": [
       "'p'"
      ]
     },
     "execution_count": 3,
     "metadata": {},
     "output_type": "execute_result"
    }
   ],
   "source": [
    "S[1] # The second item from the left"
   ]
  },
  {
   "cell_type": "markdown",
   "id": "338e20b1",
   "metadata": {},
   "source": [
    "### Notice how we assign the string to a variable named S here. A variable is created when you assign it a value, may be assigned any type of object, and is replaced with its value when it shows  up in an expression. It must also have been previously assigned by the time you use its value."
   ]
  },
  {
   "cell_type": "code",
   "execution_count": 4,
   "id": "6c0b4bef",
   "metadata": {},
   "outputs": [
    {
     "data": {
      "text/plain": [
       "'m'"
      ]
     },
     "execution_count": 4,
     "metadata": {},
     "output_type": "execute_result"
    }
   ],
   "source": [
    "# In Python, we can also index backward, from the end—positive indexes count from\n",
    "# the left, and negative indexes count back from the right:\n",
    "S[-1] # The last item from the end in S"
   ]
  },
  {
   "cell_type": "code",
   "execution_count": 5,
   "id": "1f8d9ecc",
   "metadata": {},
   "outputs": [
    {
     "data": {
      "text/plain": [
       "'a'"
      ]
     },
     "execution_count": 5,
     "metadata": {},
     "output_type": "execute_result"
    }
   ],
   "source": [
    "S[-2] # The second-to-last item from the end"
   ]
  },
  {
   "cell_type": "code",
   "execution_count": 6,
   "id": "86a4d644",
   "metadata": {},
   "outputs": [
    {
     "data": {
      "text/plain": [
       "'m'"
      ]
     },
     "execution_count": 6,
     "metadata": {},
     "output_type": "execute_result"
    }
   ],
   "source": [
    "# Formally, a negative index is simply added to the string’s length\n",
    "S[len(S)-1]"
   ]
  },
  {
   "cell_type": "markdown",
   "id": "fd96b5af",
   "metadata": {},
   "source": [
    "### In addition to simple positional indexing, sequences also support a more general form of indexing known as slicing, which is a way to extract an entire section (slice) in a single step."
   ]
  },
  {
   "cell_type": "code",
   "execution_count": 8,
   "id": "7c0450b9",
   "metadata": {},
   "outputs": [
    {
     "data": {
      "text/plain": [
       "'pa'"
      ]
     },
     "execution_count": 8,
     "metadata": {},
     "output_type": "execute_result"
    }
   ],
   "source": [
    "S[1:3] # Slice of S from offsets 1 through 2 (not 3)"
   ]
  },
  {
   "cell_type": "markdown",
   "id": "f7259a86",
   "metadata": {},
   "source": [
    "### Probably the easiest way to think of slices is that they are a way to extract an entire column from a string in a single step. Their general form, X[I:J], means “give me everything in X from offset I up to but not including offset J.”"
   ]
  },
  {
   "cell_type": "code",
   "execution_count": 9,
   "id": "b07168a9",
   "metadata": {},
   "outputs": [
    {
     "data": {
      "text/plain": [
       "'pam'"
      ]
     },
     "execution_count": 9,
     "metadata": {},
     "output_type": "execute_result"
    }
   ],
   "source": [
    "S[1:] # Everything past the first (1:len(S))"
   ]
  },
  {
   "cell_type": "code",
   "execution_count": 10,
   "id": "f1963fee",
   "metadata": {},
   "outputs": [
    {
     "data": {
      "text/plain": [
       "'Spa'"
      ]
     },
     "execution_count": 10,
     "metadata": {},
     "output_type": "execute_result"
    }
   ],
   "source": [
    "S[0:3] # Everything but the last"
   ]
  },
  {
   "cell_type": "code",
   "execution_count": 11,
   "id": "17c5c5bf",
   "metadata": {},
   "outputs": [
    {
     "data": {
      "text/plain": [
       "'Spa'"
      ]
     },
     "execution_count": 11,
     "metadata": {},
     "output_type": "execute_result"
    }
   ],
   "source": [
    "S[:3] # Same as S[0:3]"
   ]
  },
  {
   "cell_type": "code",
   "execution_count": 12,
   "id": "05bdf2ab",
   "metadata": {},
   "outputs": [
    {
     "data": {
      "text/plain": [
       "'Spa'"
      ]
     },
     "execution_count": 12,
     "metadata": {},
     "output_type": "execute_result"
    }
   ],
   "source": [
    "S[:-1] # Everything but the last again, but simpler (0:-1)"
   ]
  },
  {
   "cell_type": "code",
   "execution_count": 13,
   "id": "47018ca7",
   "metadata": {},
   "outputs": [
    {
     "data": {
      "text/plain": [
       "'Spam'"
      ]
     },
     "execution_count": 13,
     "metadata": {},
     "output_type": "execute_result"
    }
   ],
   "source": [
    "S[:] # All of S as a top-level copy (0:len(S))"
   ]
  },
  {
   "cell_type": "code",
   "execution_count": 14,
   "id": "0ab74d11",
   "metadata": {},
   "outputs": [
    {
     "data": {
      "text/plain": [
       "'Spamxyz'"
      ]
     },
     "execution_count": 14,
     "metadata": {},
     "output_type": "execute_result"
    }
   ],
   "source": [
    "# strings also support concatenation with the plus sign (joining two strings \n",
    "# into a new string) and repetition (making a new string by repeating another):\n",
    "\n",
    "S + 'xyz' # Concatenation"
   ]
  },
  {
   "cell_type": "code",
   "execution_count": 15,
   "id": "6bee3391",
   "metadata": {},
   "outputs": [
    {
     "data": {
      "text/plain": [
       "'SpamSpamSpamSpamSpamSpamSpamSpam'"
      ]
     },
     "execution_count": 15,
     "metadata": {},
     "output_type": "execute_result"
    }
   ],
   "source": [
    "S * 8 # Repetition"
   ]
  },
  {
   "cell_type": "markdown",
   "id": "94b2047f",
   "metadata": {},
   "source": [
    "### Immutability\n",
    "\n",
    "Every string operation is defined to produce a new string as its result, because strings are immutable in Python—they cannot be changed in place after they are created. You can’t change a string by assigning to one of its positions, but you can always build a new one and assign it to the same name."
   ]
  },
  {
   "cell_type": "code",
   "execution_count": 16,
   "id": "3bd0b6e0",
   "metadata": {},
   "outputs": [
    {
     "data": {
      "text/plain": [
       "'Spam'"
      ]
     },
     "execution_count": 16,
     "metadata": {},
     "output_type": "execute_result"
    }
   ],
   "source": [
    "S"
   ]
  },
  {
   "cell_type": "code",
   "execution_count": 17,
   "id": "b6a534f6",
   "metadata": {},
   "outputs": [
    {
     "ename": "TypeError",
     "evalue": "'str' object does not support item assignment",
     "output_type": "error",
     "traceback": [
      "\u001b[1;31m---------------------------------------------------------------------------\u001b[0m",
      "\u001b[1;31mTypeError\u001b[0m                                 Traceback (most recent call last)",
      "\u001b[1;32mC:\\Users\\COMARP~1\\AppData\\Local\\Temp/ipykernel_3828/711398144.py\u001b[0m in \u001b[0;36m<module>\u001b[1;34m\u001b[0m\n\u001b[1;32m----> 1\u001b[1;33m \u001b[0mS\u001b[0m\u001b[1;33m[\u001b[0m\u001b[1;36m0\u001b[0m\u001b[1;33m]\u001b[0m \u001b[1;33m=\u001b[0m \u001b[1;34m'z'\u001b[0m \u001b[1;31m# Immutable objects cannot be changed\u001b[0m\u001b[1;33m\u001b[0m\u001b[1;33m\u001b[0m\u001b[0m\n\u001b[0m",
      "\u001b[1;31mTypeError\u001b[0m: 'str' object does not support item assignment"
     ]
    }
   ],
   "source": [
    "S[0] = 'z' # Immutable objects cannot be changed"
   ]
  },
  {
   "cell_type": "code",
   "execution_count": 18,
   "id": "96de4994",
   "metadata": {},
   "outputs": [],
   "source": [
    "S = 'z' + S[1:] # But we can run expressions to make new objects"
   ]
  },
  {
   "cell_type": "code",
   "execution_count": 19,
   "id": "f8a4c8c1",
   "metadata": {},
   "outputs": [
    {
     "data": {
      "text/plain": [
       "'zpam'"
      ]
     },
     "execution_count": 19,
     "metadata": {},
     "output_type": "execute_result"
    }
   ],
   "source": [
    "S"
   ]
  },
  {
   "cell_type": "markdown",
   "id": "b7b9e634",
   "metadata": {},
   "source": [
    "### Every object in Python is classified as either immutable (unchangeable) or not. In terms of the core types, numbers, strings, and tuples are immutable; lists, dictionaries, and sets are not—they can be changed in place freely, as can most new objects you’ll code with classes.\n",
    "\n",
    "Strictly speaking, you can change text-based data in place if you either expand it into a list of individual characters and join it back together with nothing between, or use the bytearray.\n",
    "bytearray"
   ]
  },
  {
   "cell_type": "code",
   "execution_count": 20,
   "id": "f256d650",
   "metadata": {},
   "outputs": [],
   "source": [
    "S = 'shrubbery'"
   ]
  },
  {
   "cell_type": "code",
   "execution_count": 21,
   "id": "3a427c6c",
   "metadata": {},
   "outputs": [],
   "source": [
    "L = list(S) # Expand to a list: [...]"
   ]
  },
  {
   "cell_type": "code",
   "execution_count": 22,
   "id": "ec6e17aa",
   "metadata": {},
   "outputs": [
    {
     "data": {
      "text/plain": [
       "['s', 'h', 'r', 'u', 'b', 'b', 'e', 'r', 'y']"
      ]
     },
     "execution_count": 22,
     "metadata": {},
     "output_type": "execute_result"
    }
   ],
   "source": [
    "L"
   ]
  },
  {
   "cell_type": "code",
   "execution_count": 23,
   "id": "f9f3ea5e",
   "metadata": {},
   "outputs": [],
   "source": [
    "L[1] = 'c' # Change it in place"
   ]
  },
  {
   "cell_type": "code",
   "execution_count": 24,
   "id": "88bafb15",
   "metadata": {},
   "outputs": [
    {
     "data": {
      "text/plain": [
       "'scrubbery'"
      ]
     },
     "execution_count": 24,
     "metadata": {},
     "output_type": "execute_result"
    }
   ],
   "source": [
    "''.join(L) # Join with empty delimiter"
   ]
  },
  {
   "cell_type": "code",
   "execution_count": 25,
   "id": "d44c8f63",
   "metadata": {},
   "outputs": [],
   "source": [
    "B = bytearray(b'spam') # A bytes/list hybrid (ahead)"
   ]
  },
  {
   "cell_type": "code",
   "execution_count": 26,
   "id": "2c196d40",
   "metadata": {},
   "outputs": [],
   "source": [
    "B.extend(b'eggs') # 'b' needed in 3.X"
   ]
  },
  {
   "cell_type": "code",
   "execution_count": 27,
   "id": "a4e3ab67",
   "metadata": {},
   "outputs": [
    {
     "data": {
      "text/plain": [
       "bytearray(b'spameggs')"
      ]
     },
     "execution_count": 27,
     "metadata": {},
     "output_type": "execute_result"
    }
   ],
   "source": [
    "B # B[i] = ord(c) works here too"
   ]
  },
  {
   "cell_type": "code",
   "execution_count": 28,
   "id": "9f46a22c",
   "metadata": {},
   "outputs": [
    {
     "data": {
      "text/plain": [
       "'spameggs'"
      ]
     },
     "execution_count": 28,
     "metadata": {},
     "output_type": "execute_result"
    }
   ],
   "source": [
    "B.decode() # Translate to normal string"
   ]
  },
  {
   "cell_type": "markdown",
   "id": "59f54ed4",
   "metadata": {},
   "source": [
    "### Type-Specific Methods\n",
    "\n",
    "In addition to generic sequence operations, though, strings also have operations all\n",
    "their own, available as methods—functions that are attached to and act upon a specific\n",
    "object, which are triggered with a call expression."
   ]
  },
  {
   "cell_type": "code",
   "execution_count": 29,
   "id": "ebd1ce99",
   "metadata": {},
   "outputs": [
    {
     "data": {
      "text/plain": [
       "1"
      ]
     },
     "execution_count": 29,
     "metadata": {},
     "output_type": "execute_result"
    }
   ],
   "source": [
    "# find method is the basic substring search operation (it returns\n",
    "# the offset of the passed-in substring, or −1 if it is not present)\n",
    "\n",
    "S = 'Spam'\n",
    "S.find('pa') # Find the offset of a substring in S"
   ]
  },
  {
   "cell_type": "code",
   "execution_count": 31,
   "id": "50c82524",
   "metadata": {},
   "outputs": [
    {
     "data": {
      "text/plain": [
       "'SXYZm'"
      ]
     },
     "execution_count": 31,
     "metadata": {},
     "output_type": "execute_result"
    }
   ],
   "source": [
    "# the string replace method performs global searches and replacements\n",
    "S.replace('pa', 'XYZ') # Replace occurrences of a string in S with another"
   ]
  },
  {
   "cell_type": "markdown",
   "id": "6db6c513",
   "metadata": {},
   "source": [
    "Other methods split a string into substrings on a delimiter (handy as\n",
    "a simple form of parsing), perform case conversions, test the content of the string (digits,\n",
    "letters, and so on), and strip whitespace characters off the ends of the string"
   ]
  },
  {
   "cell_type": "code",
   "execution_count": 33,
   "id": "6c7449f1",
   "metadata": {},
   "outputs": [
    {
     "data": {
      "text/plain": [
       "['aaa', 'bbb', 'ccccc', 'dd']"
      ]
     },
     "execution_count": 33,
     "metadata": {},
     "output_type": "execute_result"
    }
   ],
   "source": [
    "line = 'aaa,bbb,ccccc,dd'\n",
    "line.split(',') # Split on a delimiter into a list of substrings"
   ]
  },
  {
   "cell_type": "code",
   "execution_count": 34,
   "id": "28b0e43b",
   "metadata": {},
   "outputs": [
    {
     "data": {
      "text/plain": [
       "'SPAM'"
      ]
     },
     "execution_count": 34,
     "metadata": {},
     "output_type": "execute_result"
    }
   ],
   "source": [
    "S = 'spam'\n",
    "S.upper() # Upper- and lowercase conversions"
   ]
  },
  {
   "cell_type": "code",
   "execution_count": 35,
   "id": "262b2bdb",
   "metadata": {},
   "outputs": [
    {
     "data": {
      "text/plain": [
       "True"
      ]
     },
     "execution_count": 35,
     "metadata": {},
     "output_type": "execute_result"
    }
   ],
   "source": [
    "S.isalpha() # Content tests: isalpha, isdigit, etc."
   ]
  },
  {
   "cell_type": "code",
   "execution_count": 36,
   "id": "16f485b2",
   "metadata": {},
   "outputs": [],
   "source": [
    "line = 'aaa,bbb,ccccc,dd\\n'"
   ]
  },
  {
   "cell_type": "code",
   "execution_count": 37,
   "id": "08cd91a9",
   "metadata": {},
   "outputs": [
    {
     "data": {
      "text/plain": [
       "'aaa,bbb,ccccc,dd'"
      ]
     },
     "execution_count": 37,
     "metadata": {},
     "output_type": "execute_result"
    }
   ],
   "source": [
    "line.rstrip() # Remove whitespace characters on the right side"
   ]
  },
  {
   "cell_type": "code",
   "execution_count": 38,
   "id": "6f807443",
   "metadata": {},
   "outputs": [
    {
     "data": {
      "text/plain": [
       "['aaa', 'bbb', 'ccccc', 'dd']"
      ]
     },
     "execution_count": 38,
     "metadata": {},
     "output_type": "execute_result"
    }
   ],
   "source": [
    "line.rstrip().split(',') # Combine two operations"
   ]
  },
  {
   "cell_type": "code",
   "execution_count": 39,
   "id": "0570fe88",
   "metadata": {},
   "outputs": [
    {
     "data": {
      "text/plain": [
       "'spam, eggs, and SPAM!'"
      ]
     },
     "execution_count": 39,
     "metadata": {},
     "output_type": "execute_result"
    }
   ],
   "source": [
    "# Strings also support an advanced substitution operation known as formatting\n",
    "'{0}, eggs, and {1}'.format('spam', 'SPAM!') # Formatting method"
   ]
  },
  {
   "cell_type": "code",
   "execution_count": 40,
   "id": "d42e99c6",
   "metadata": {},
   "outputs": [
    {
     "data": {
      "text/plain": [
       "'296,999.26'"
      ]
     },
     "execution_count": 40,
     "metadata": {},
     "output_type": "execute_result"
    }
   ],
   "source": [
    "'{:,.2f}'.format(296999.2567) # Separators, decimal digits"
   ]
  },
  {
   "cell_type": "code",
   "execution_count": 43,
   "id": "2bb6619a",
   "metadata": {},
   "outputs": [
    {
     "data": {
      "text/plain": [
       "'3.14 | -0042'"
      ]
     },
     "execution_count": 43,
     "metadata": {},
     "output_type": "execute_result"
    }
   ],
   "source": [
    "'%.2f | %+05d' % (3.14159, -42) # Digits, padding, signs"
   ]
  },
  {
   "cell_type": "markdown",
   "id": "27ba14b5",
   "metadata": {},
   "source": [
    "### As a rule of thumb, Python’s toolset is layered: generic operations that span multiple types show up as built-in functions or expressions (e.g., len(X), X[0]), but type-specific operations are method calls (e.g., aStringupper())."
   ]
  },
  {
   "cell_type": "markdown",
   "id": "493ed573",
   "metadata": {},
   "source": [
    "## Getting Help\n",
    "\n",
    "For more details, you can always call the built-in dir function. This\n",
    "function lists variables assigned in the caller’s scope when called with no argument;\n",
    "more usefully, it returns a list of all the attributes available for any object passed to it."
   ]
  },
  {
   "cell_type": "code",
   "execution_count": 45,
   "id": "38cd0a7f",
   "metadata": {},
   "outputs": [
    {
     "data": {
      "text/plain": [
       "['__add__',\n",
       " '__class__',\n",
       " '__contains__',\n",
       " '__delattr__',\n",
       " '__dir__',\n",
       " '__doc__',\n",
       " '__eq__',\n",
       " '__format__',\n",
       " '__ge__',\n",
       " '__getattribute__',\n",
       " '__getitem__',\n",
       " '__getnewargs__',\n",
       " '__gt__',\n",
       " '__hash__',\n",
       " '__init__',\n",
       " '__init_subclass__',\n",
       " '__iter__',\n",
       " '__le__',\n",
       " '__len__',\n",
       " '__lt__',\n",
       " '__mod__',\n",
       " '__mul__',\n",
       " '__ne__',\n",
       " '__new__',\n",
       " '__reduce__',\n",
       " '__reduce_ex__',\n",
       " '__repr__',\n",
       " '__rmod__',\n",
       " '__rmul__',\n",
       " '__setattr__',\n",
       " '__sizeof__',\n",
       " '__str__',\n",
       " '__subclasshook__',\n",
       " 'capitalize',\n",
       " 'casefold',\n",
       " 'center',\n",
       " 'count',\n",
       " 'encode',\n",
       " 'endswith',\n",
       " 'expandtabs',\n",
       " 'find',\n",
       " 'format',\n",
       " 'format_map',\n",
       " 'index',\n",
       " 'isalnum',\n",
       " 'isalpha',\n",
       " 'isascii',\n",
       " 'isdecimal',\n",
       " 'isdigit',\n",
       " 'isidentifier',\n",
       " 'islower',\n",
       " 'isnumeric',\n",
       " 'isprintable',\n",
       " 'isspace',\n",
       " 'istitle',\n",
       " 'isupper',\n",
       " 'join',\n",
       " 'ljust',\n",
       " 'lower',\n",
       " 'lstrip',\n",
       " 'maketrans',\n",
       " 'partition',\n",
       " 'removeprefix',\n",
       " 'removesuffix',\n",
       " 'replace',\n",
       " 'rfind',\n",
       " 'rindex',\n",
       " 'rjust',\n",
       " 'rpartition',\n",
       " 'rsplit',\n",
       " 'rstrip',\n",
       " 'split',\n",
       " 'splitlines',\n",
       " 'startswith',\n",
       " 'strip',\n",
       " 'swapcase',\n",
       " 'title',\n",
       " 'translate',\n",
       " 'upper',\n",
       " 'zfill']"
      ]
     },
     "execution_count": 45,
     "metadata": {},
     "output_type": "execute_result"
    }
   ],
   "source": [
    "dir(S)"
   ]
  },
  {
   "cell_type": "markdown",
   "id": "1bc29cd4",
   "metadata": {},
   "source": [
    "You probably won’t care about the names with double underscores in this list until later\n",
    "in the book, when we study operator overloading in classes—they represent the implementation\n",
    "of the string object and are available to support customization. The\n",
    "__ add __ method of strings, for example, is what really performs concatenation"
   ]
  },
  {
   "cell_type": "code",
   "execution_count": 46,
   "id": "282d8e90",
   "metadata": {},
   "outputs": [
    {
     "data": {
      "text/plain": [
       "'spamNI!'"
      ]
     },
     "execution_count": 46,
     "metadata": {},
     "output_type": "execute_result"
    }
   ],
   "source": [
    "S + 'NI!'"
   ]
  },
  {
   "cell_type": "code",
   "execution_count": 47,
   "id": "b8cc3161",
   "metadata": {},
   "outputs": [
    {
     "data": {
      "text/plain": [
       "'spamNI!'"
      ]
     },
     "execution_count": 47,
     "metadata": {},
     "output_type": "execute_result"
    }
   ],
   "source": [
    "S.__add__('NI!')"
   ]
  },
  {
   "cell_type": "markdown",
   "id": "fc92b211",
   "metadata": {},
   "source": [
    "#### The dir function simply gives the methods’ names. To ask what they do, you can pass them to the help function"
   ]
  },
  {
   "cell_type": "code",
   "execution_count": 48,
   "id": "6c068adb",
   "metadata": {},
   "outputs": [
    {
     "name": "stdout",
     "output_type": "stream",
     "text": [
      "Help on built-in function replace:\n",
      "\n",
      "replace(old, new, count=-1, /) method of builtins.str instance\n",
      "    Return a copy with all occurrences of substring old replaced by new.\n",
      "    \n",
      "      count\n",
      "        Maximum number of occurrences to replace.\n",
      "        -1 (the default value) means replace all occurrences.\n",
      "    \n",
      "    If the optional argument count is given, only the first count occurrences are\n",
      "    replaced.\n",
      "\n"
     ]
    }
   ],
   "source": [
    "help(S.replace)"
   ]
  },
  {
   "cell_type": "markdown",
   "id": "23fae99c",
   "metadata": {},
   "source": [
    "### Other Ways to Code Strings"
   ]
  },
  {
   "cell_type": "markdown",
   "id": "c2812c6b",
   "metadata": {},
   "source": [
    "Special characters can be represented as backslash\n",
    "escape sequences, which Python displays in \\xNN hexadecimal escape notation, unless\n",
    "they represent printable characters"
   ]
  },
  {
   "cell_type": "code",
   "execution_count": 52,
   "id": "8d0a93bf",
   "metadata": {},
   "outputs": [
    {
     "data": {
      "text/plain": [
       "'A\\nB\\tC'"
      ]
     },
     "execution_count": 52,
     "metadata": {},
     "output_type": "execute_result"
    }
   ],
   "source": [
    "S = 'A\\nB\\tC' # \\n is end-of-line, \\t is tab"
   ]
  },
  {
   "cell_type": "code",
   "execution_count": 51,
   "id": "bec4845e",
   "metadata": {},
   "outputs": [
    {
     "data": {
      "text/plain": [
       "5"
      ]
     },
     "execution_count": 51,
     "metadata": {},
     "output_type": "execute_result"
    }
   ],
   "source": [
    "len(S) # Each stands for just one character"
   ]
  },
  {
   "cell_type": "code",
   "execution_count": 53,
   "id": "2c060587",
   "metadata": {},
   "outputs": [
    {
     "data": {
      "text/plain": [
       "10"
      ]
     },
     "execution_count": 53,
     "metadata": {},
     "output_type": "execute_result"
    }
   ],
   "source": [
    "ord('\\n') # \\n is a byte with the binary value 10 in ASCII"
   ]
  },
  {
   "cell_type": "code",
   "execution_count": 55,
   "id": "d33310dd",
   "metadata": {},
   "outputs": [
    {
     "data": {
      "text/plain": [
       "5"
      ]
     },
     "execution_count": 55,
     "metadata": {},
     "output_type": "execute_result"
    }
   ],
   "source": [
    "S = 'A\\0B\\0C' # \\0, a binary zero byte, does not terminate string\n",
    "len(S)"
   ]
  },
  {
   "cell_type": "code",
   "execution_count": 56,
   "id": "a86ad2bd",
   "metadata": {},
   "outputs": [
    {
     "data": {
      "text/plain": [
       "'A\\x00B\\x00C'"
      ]
     },
     "execution_count": 56,
     "metadata": {},
     "output_type": "execute_result"
    }
   ],
   "source": [
    "S # Non-printables are displayed as \\xNN hex escapes"
   ]
  },
  {
   "cell_type": "markdown",
   "id": "14fd4841",
   "metadata": {},
   "source": [
    "Python allows strings to be enclosed in single or double quote characters—they mean\n",
    "the same thing but allow the other type of quote to be embedded with an escape. It also allows multiline string literals enclosed in\n",
    "triple quotes (single or double)—when this form is used, all the lines are concatenated\n",
    "together, and end-of-line characters are added where line breaks appear."
   ]
  },
  {
   "cell_type": "code",
   "execution_count": 58,
   "id": "b3a78fc5",
   "metadata": {},
   "outputs": [],
   "source": [
    "msg = \"\"\"\n",
    "aaaaaaaaaaaaa\n",
    "bbb'''bbbbbbbbbb\"\"bbbbbbb'bbbb\n",
    "cccccccccccccc\n",
    "\"\"\""
   ]
  },
  {
   "cell_type": "code",
   "execution_count": 59,
   "id": "8ad02aa3",
   "metadata": {},
   "outputs": [
    {
     "data": {
      "text/plain": [
       "'\\naaaaaaaaaaaaa\\nbbb\\'\\'\\'bbbbbbbbbb\"\"bbbbbbb\\'bbbb\\ncccccccccccccc\\n'"
      ]
     },
     "execution_count": 59,
     "metadata": {},
     "output_type": "execute_result"
    }
   ],
   "source": [
    "msg"
   ]
  },
  {
   "cell_type": "markdown",
   "id": "cdeb2608",
   "metadata": {},
   "source": [
    "#### Python also supports a raw string literal that turns off the backslash escape mechanism. Such literals start with the letter r and are useful for strings like directory paths on Windows (e.g., r'C:\\text\\new')."
   ]
  },
  {
   "cell_type": "markdown",
   "id": "df68a8c3",
   "metadata": {},
   "source": [
    "## Unicode Strings\n",
    "\n",
    "Python’s strings also come with full Unicode support required for processing text in\n",
    "internationalized character sets. Characters in the Japanese and Russian alphabets, for\n",
    "example, are outside the ASCII set. Such non-ASCII text can show up in web pages,\n",
    "emails, GUIs, JSON, XML, or elsewhere."
   ]
  },
  {
   "cell_type": "code",
   "execution_count": 60,
   "id": "117a1878",
   "metadata": {},
   "outputs": [
    {
     "data": {
      "text/plain": [
       "'spÄm'"
      ]
     },
     "execution_count": 60,
     "metadata": {},
     "output_type": "execute_result"
    }
   ],
   "source": [
    "'sp\\xc4m' # normal str strings are Unicode text"
   ]
  },
  {
   "cell_type": "code",
   "execution_count": 61,
   "id": "bbc11594",
   "metadata": {},
   "outputs": [
    {
     "data": {
      "text/plain": [
       "b'a\\x01c'"
      ]
     },
     "execution_count": 61,
     "metadata": {},
     "output_type": "execute_result"
    }
   ],
   "source": [
    "b'a\\x01c' # bytes strings are byte-based data"
   ]
  },
  {
   "cell_type": "markdown",
   "id": "82926f46",
   "metadata": {},
   "source": [
    "Formally, in both 2.X and 3.X, non-Unicode strings are sequences of 8-bit bytes that\n",
    "print with ASCII characters when possible, and Unicode strings are sequences of Uni\n",
    "code\n",
    "code points—identifying numbers for characters, which do not necessarily map to\n",
    "single bytes when encoded to files or stored in memory."
   ]
  },
  {
   "cell_type": "code",
   "execution_count": 62,
   "id": "b46a5caf",
   "metadata": {},
   "outputs": [
    {
     "data": {
      "text/plain": [
       "'spam'"
      ]
     },
     "execution_count": 62,
     "metadata": {},
     "output_type": "execute_result"
    }
   ],
   "source": [
    "'spam' # Characters may be 1, 2, or 4 bytes in memory"
   ]
  },
  {
   "cell_type": "code",
   "execution_count": 63,
   "id": "7c587e7b",
   "metadata": {},
   "outputs": [
    {
     "data": {
      "text/plain": [
       "b'spam'"
      ]
     },
     "execution_count": 63,
     "metadata": {},
     "output_type": "execute_result"
    }
   ],
   "source": [
    "'spam'.encode('utf8') # Encoded to 4 bytes in UTF-8 in files"
   ]
  },
  {
   "cell_type": "code",
   "execution_count": 64,
   "id": "be8c93bd",
   "metadata": {},
   "outputs": [
    {
     "data": {
      "text/plain": [
       "b'\\xff\\xfes\\x00p\\x00a\\x00m\\x00'"
      ]
     },
     "execution_count": 64,
     "metadata": {},
     "output_type": "execute_result"
    }
   ],
   "source": [
    "'spam'.encode('utf16') # But encoded to 10 bytes in UTF-16"
   ]
  },
  {
   "cell_type": "markdown",
   "id": "142a3342",
   "metadata": {},
   "source": [
    "Both 3.X and 2.X also support coding non-ASCII characters with\n",
    "\\x hexadecimal and short \\u and long \\U Unicode escapes, as well as file-wide encodings declared in program source files.\n",
    "\n",
    "\n",
    "\n"
   ]
  },
  {
   "cell_type": "code",
   "execution_count": 65,
   "id": "6f20fff6",
   "metadata": {},
   "outputs": [
    {
     "data": {
      "text/plain": [
       "'spÄÄÄm'"
      ]
     },
     "execution_count": 65,
     "metadata": {},
     "output_type": "execute_result"
    }
   ],
   "source": [
    "'sp\\xc4\\u00c4\\U000000c4m'"
   ]
  },
  {
   "cell_type": "markdown",
   "id": "35e05ca2",
   "metadata": {},
   "source": [
    "What these values mean and how they are used differs between text strings, which are\n",
    "the normal string in 3.X and Unicode in 2.X, and byte strings, which are bytes in 3.X\n",
    "and the normal string in 2.X. Byte strings use only \\x hexadecimal escapes to embed the \n",
    "encoded form of text, not its decoded code point values—encoded bytes are the same as \n",
    "code points, only for some encodings and characters."
   ]
  },
  {
   "cell_type": "code",
   "execution_count": 66,
   "id": "5957ed4d",
   "metadata": {},
   "outputs": [
    {
     "data": {
      "text/plain": [
       "('£', b'\\xa3', '£')"
      ]
     },
     "execution_count": 66,
     "metadata": {},
     "output_type": "execute_result"
    }
   ],
   "source": [
    "'\\u00A3', '\\u00A3'.encode('latin1'), b'\\xA3'.decode('latin1')"
   ]
  },
  {
   "cell_type": "markdown",
   "id": "0629f513",
   "metadata": {},
   "source": [
    "#### Python 3.X has a tighter model that never allows its normal and byte strings to mix without explicit conversion:\n",
    "\n",
    "u'x' + b'y' # Fails in 3.3 (where u is optional and ignored) \\\n",
    "u'x' + 'y' # Works in 3.3: 'xy'\n",
    "\n",
    "'x' + b'y'.decode() # Works in 3.X if decode bytes to str: 'xy' \\\n",
    "'x'.encode() + b'y' # Works in 3.X if encode str to bytes: b'xy'"
   ]
  },
  {
   "cell_type": "markdown",
   "id": "5db919dd",
   "metadata": {},
   "source": [
    "## Pattern Matching\n",
    "\n",
    "To do pattern matching in Python, we import a module called re. This module has analogous calls for searching, splitting, and replacement,\n",
    "but because we can use patterns to specify substrings, we can be much more\n",
    "general"
   ]
  },
  {
   "cell_type": "code",
   "execution_count": 68,
   "id": "69a60b74",
   "metadata": {},
   "outputs": [],
   "source": [
    "import re\n",
    "\n",
    "# This example searches for a substring that begins with the word “Hello,” followed by\n",
    "# zero or more tabs or spaces, followed by arbitrary characters to be saved as a matched\n",
    "# group, terminated by the word “world.”\n",
    "\n",
    "match = re.match('Hello[ \\t]*(.*)world', 'Hello Python world')"
   ]
  },
  {
   "cell_type": "code",
   "execution_count": 69,
   "id": "aa2c6464",
   "metadata": {},
   "outputs": [
    {
     "data": {
      "text/plain": [
       "'Python '"
      ]
     },
     "execution_count": 69,
     "metadata": {},
     "output_type": "execute_result"
    }
   ],
   "source": [
    "match.group(1)"
   ]
  },
  {
   "cell_type": "code",
   "execution_count": 70,
   "id": "3c988757",
   "metadata": {},
   "outputs": [
    {
     "data": {
      "text/plain": [
       "('usr', 'home', 'lumberjack')"
      ]
     },
     "execution_count": 70,
     "metadata": {},
     "output_type": "execute_result"
    }
   ],
   "source": [
    "# The following pattern, for example, picks out three groups separated by slashes,\n",
    "# and is similar to splitting by an alternatives pattern:\n",
    "match = re.match('[/:](.*)[/:](.*)[/:](.*)', '/usr/home:lumberjack')\n",
    "match.groups()"
   ]
  },
  {
   "cell_type": "code",
   "execution_count": 71,
   "id": "c88873f6",
   "metadata": {},
   "outputs": [
    {
     "data": {
      "text/plain": [
       "['', 'usr', 'home', 'lumberjack']"
      ]
     },
     "execution_count": 71,
     "metadata": {},
     "output_type": "execute_result"
    }
   ],
   "source": [
    "re.split('[/:]', '/usr/home/lumberjack')"
   ]
  }
 ],
 "metadata": {
  "kernelspec": {
   "display_name": "Python 3 (ipykernel)",
   "language": "python",
   "name": "python3"
  },
  "language_info": {
   "codemirror_mode": {
    "name": "ipython",
    "version": 3
   },
   "file_extension": ".py",
   "mimetype": "text/x-python",
   "name": "python",
   "nbconvert_exporter": "python",
   "pygments_lexer": "ipython3",
   "version": "3.9.7"
  }
 },
 "nbformat": 4,
 "nbformat_minor": 5
}
