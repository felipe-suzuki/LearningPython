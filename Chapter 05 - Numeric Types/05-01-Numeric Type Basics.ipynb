{
 "cells": [
  {
   "cell_type": "markdown",
   "id": "d68c0ae1",
   "metadata": {},
   "source": [
    "## Numeric Type Basics\n",
    "\n",
    "Python supports the usual numeric types, as well as literals for creating numbers and expressions for processing them. In addition, Python provides more advanced numeric programming support and objects for more advanced work.\n",
    "A complete inventory of Python’s numeric toolbox includes:\n",
    "\n",
    "#### • Integer and floating-point objects • Complex number objects • Decimal: fixed-precision objects • Fraction: rational number objects • Sets: collections with numeric operations • Booleans: true and false • Built-in functions and modules: round, math, random, etc. • Expressions; unlimited integer precision; bitwise operations; hex, octal, and binary formats • Third-party extensions: vectors, libraries, visualization, plotting, etc."
   ]
  },
  {
   "cell_type": "markdown",
   "id": "b1b6c568",
   "metadata": {},
   "source": [
    "### Numeric Literals\n",
    "\n",
    "Among its basic types, Python provides integers, which are positive and negative whole\n",
    "numbers, and floating-point numbers, which are numbers with a fractional part."
   ]
  },
  {
   "cell_type": "markdown",
   "id": "7562dbd7",
   "metadata": {},
   "source": [
    "### Integer and floating-point literals: 1234, −24, 0, 99999999999999, 1.23, 1., 3.14e-10, 4E210, 4.0e+210\n",
    "\n",
    "Integers are written as strings of decimal digits. Floating-point numbers have a\n",
    "decimal point and/or an optional signed exponent introduced by an e or E and\n",
    "followed by an optional sign"
   ]
  },
  {
   "cell_type": "markdown",
   "id": "aabe5891",
   "metadata": {},
   "source": [
    "### Integers in Python 3.X: a single type\n",
    "\n",
    "In Python 3.X, the normal and long integer types have been merged—there is only\n",
    "integer, which automatically supports the unlimited precision of Python 2.X’s separate\n",
    "long integer type."
   ]
  },
  {
   "cell_type": "markdown",
   "id": "34467a54",
   "metadata": {},
   "source": [
    "### Hexadecimal, octal, and binary literals: 0o177, 0x9ff, 0b101010\n",
    "\n",
    "Integers may be coded in decimal (base 10), hexadecimal (base 16), octal (base 8),\n",
    "or binary (base 2), the last three of which are common in some programming domains.\n",
    "Hexadecimals start with a leading 0x or 0X, followed by a string of hexadecimal\n",
    "digits (0–9 and A–F). Hex digits may be coded in lower- or uppercase. Octal\n",
    "literals start with a leading 0o or 0O (zero and lower- or uppercase letter o), followed\n",
    "by a string of digits (0–7)."
   ]
  },
  {
   "cell_type": "markdown",
   "id": "a9d0b1f2",
   "metadata": {},
   "source": [
    "### Complex numbers: 3+4j, 3.0+4.0j, 3J\n",
    "\n",
    "Python complex literals are written as realpart+imaginarypart, where the imagi\n",
    "narypart is terminated with a j or J. The realpart is technically optional, so the\n",
    "imaginarypart may appear on its own. Internally, complex numbers are implemented\n",
    "as pairs of floating-point numbers, but all numeric operations perform\n",
    "complex math when applied to complex numbers. Complex numbers may also be\n",
    "created with the complex(real, imag) built-in call."
   ]
  },
  {
   "cell_type": "markdown",
   "id": "58fc56a4",
   "metadata": {},
   "source": [
    "### Coding other numeric types: {1, 2, 3, 4}, Decimal('1.0'), Fraction(1, 3), bool(X), True, False\n",
    "\n",
    "They serve more advanced or specialized roles. You create some of these by calling functions in imported modules (e.g., decimals and fractions), and others have literal syntax all their own (e.g., sets)."
   ]
  }
 ],
 "metadata": {
  "kernelspec": {
   "display_name": "Python 3 (ipykernel)",
   "language": "python",
   "name": "python3"
  },
  "language_info": {
   "codemirror_mode": {
    "name": "ipython",
    "version": 3
   },
   "file_extension": ".py",
   "mimetype": "text/x-python",
   "name": "python",
   "nbconvert_exporter": "python",
   "pygments_lexer": "ipython3",
   "version": "3.9.7"
  }
 },
 "nbformat": 4,
 "nbformat_minor": 5
}
