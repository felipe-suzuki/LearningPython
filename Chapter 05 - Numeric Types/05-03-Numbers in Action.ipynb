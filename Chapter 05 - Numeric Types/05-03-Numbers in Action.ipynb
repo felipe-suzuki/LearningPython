{
 "cells": [
  {
   "cell_type": "markdown",
   "id": "3dd0b950",
   "metadata": {},
   "source": [
    "## Variables and Basic Expressions\n",
    "\n",
    "Variables are simply names—created by you or Python—that are used to keep track of\n",
    "information in your program. We’ll say more about this in the next chapter, but in\n",
    "Python:\n",
    "\n",
    "• Variables are created when they are first assigned values.\n",
    "\n",
    "• Variables are replaced with their values when used in expressions.\n",
    "\n",
    "• Variables must be assigned before they can be used in expressions.\n",
    "\n",
    "• Variables refer to objects and are never declared ahead of time."
   ]
  },
  {
   "cell_type": "code",
   "execution_count": 1,
   "id": "3a606fca",
   "metadata": {},
   "outputs": [],
   "source": [
    "a = 3 # Name created: not declared ahead of time"
   ]
  },
  {
   "cell_type": "code",
   "execution_count": 2,
   "id": "b5b2e935",
   "metadata": {},
   "outputs": [],
   "source": [
    "b = 4"
   ]
  },
  {
   "cell_type": "code",
   "execution_count": 4,
   "id": "7f0025fe",
   "metadata": {},
   "outputs": [
    {
     "data": {
      "text/plain": [
       "(4, 2)"
      ]
     },
     "execution_count": 4,
     "metadata": {},
     "output_type": "execute_result"
    }
   ],
   "source": [
    "a + 1, a - 1 # Addition (3 + 1), subtraction (3 − 1)"
   ]
  },
  {
   "cell_type": "code",
   "execution_count": 5,
   "id": "15a2937e",
   "metadata": {},
   "outputs": [
    {
     "data": {
      "text/plain": [
       "(12, 2.0)"
      ]
     },
     "execution_count": 5,
     "metadata": {},
     "output_type": "execute_result"
    }
   ],
   "source": [
    "b * 3, b / 2 # Multiplication (4 * 3), division (4 / 2)"
   ]
  },
  {
   "cell_type": "code",
   "execution_count": 6,
   "id": "60e928b8",
   "metadata": {},
   "outputs": [
    {
     "data": {
      "text/plain": [
       "(1, 16)"
      ]
     },
     "execution_count": 6,
     "metadata": {},
     "output_type": "execute_result"
    }
   ],
   "source": [
    "a % 2, b ** 2 # Modulus (remainder), power (4 ** 2)"
   ]
  },
  {
   "cell_type": "code",
   "execution_count": 7,
   "id": "83956b0d",
   "metadata": {},
   "outputs": [
    {
     "data": {
      "text/plain": [
       "(6.0, 16.0)"
      ]
     },
     "execution_count": 7,
     "metadata": {},
     "output_type": "execute_result"
    }
   ],
   "source": [
    "2 + 4.0, 2.0 ** b # Mixed-type conversions"
   ]
  },
  {
   "cell_type": "code",
   "execution_count": 8,
   "id": "c5d095f5",
   "metadata": {},
   "outputs": [
    {
     "ename": "NameError",
     "evalue": "name 'c' is not defined",
     "output_type": "error",
     "traceback": [
      "\u001b[1;31m---------------------------------------------------------------------------\u001b[0m",
      "\u001b[1;31mNameError\u001b[0m                                 Traceback (most recent call last)",
      "\u001b[1;32mC:\\Users\\COMARP~1\\AppData\\Local\\Temp/ipykernel_2384/3714827892.py\u001b[0m in \u001b[0;36m<module>\u001b[1;34m\u001b[0m\n\u001b[0;32m      2\u001b[0m \u001b[1;31m# Python reports an error rather than filling in some default value:\u001b[0m\u001b[1;33m\u001b[0m\u001b[1;33m\u001b[0m\u001b[0m\n\u001b[0;32m      3\u001b[0m \u001b[1;33m\u001b[0m\u001b[0m\n\u001b[1;32m----> 4\u001b[1;33m \u001b[0mc\u001b[0m \u001b[1;33m*\u001b[0m \u001b[1;36m2\u001b[0m\u001b[1;33m\u001b[0m\u001b[1;33m\u001b[0m\u001b[0m\n\u001b[0m",
      "\u001b[1;31mNameError\u001b[0m: name 'c' is not defined"
     ]
    }
   ],
   "source": [
    "# If you use a different variable that has not yet been assigned, \n",
    "# Python reports an error rather than filling in some default value:\n",
    "\n",
    "c * 2"
   ]
  },
  {
   "cell_type": "code",
   "execution_count": 9,
   "id": "aee9d82c",
   "metadata": {},
   "outputs": [
    {
     "data": {
      "text/plain": [
       "5.0"
      ]
     },
     "execution_count": 9,
     "metadata": {},
     "output_type": "execute_result"
    }
   ],
   "source": [
    "b / 2 + a # Same as ((4 / 2) + 3)"
   ]
  },
  {
   "cell_type": "code",
   "execution_count": 10,
   "id": "7b83985e",
   "metadata": {},
   "outputs": [
    {
     "data": {
      "text/plain": [
       "0.8"
      ]
     },
     "execution_count": 10,
     "metadata": {},
     "output_type": "execute_result"
    }
   ],
   "source": [
    "b / (2.0 + a) # Same as (4 / (2.0 + 3))"
   ]
  },
  {
   "cell_type": "code",
   "execution_count": null,
   "id": "ed21e89a",
   "metadata": {},
   "outputs": [],
   "source": []
  }
 ],
 "metadata": {
  "kernelspec": {
   "display_name": "Python 3 (ipykernel)",
   "language": "python",
   "name": "python3"
  },
  "language_info": {
   "codemirror_mode": {
    "name": "ipython",
    "version": 3
   },
   "file_extension": ".py",
   "mimetype": "text/x-python",
   "name": "python",
   "nbconvert_exporter": "python",
   "pygments_lexer": "ipython3",
   "version": "3.9.7"
  }
 },
 "nbformat": 4,
 "nbformat_minor": 5
}
