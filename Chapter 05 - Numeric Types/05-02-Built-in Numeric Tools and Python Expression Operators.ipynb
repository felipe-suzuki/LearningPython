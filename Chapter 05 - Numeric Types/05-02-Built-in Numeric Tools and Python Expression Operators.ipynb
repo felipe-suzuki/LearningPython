{
 "cells": [
  {
   "cell_type": "markdown",
   "id": "b25febe1",
   "metadata": {},
   "source": [
    "## Built-in Numeric Tools\n",
    "\n",
    "Python provides a set of tools for processing number objects:\n",
    "Expression operators\n",
    "+, -, *, /, >>, **, &, etc.\n",
    "\n",
    "Built-in mathematical functions\n",
    "pow, abs, round, int, hex, bin, etc.\n",
    "\n",
    "Utility modules\n",
    "random, math, etc.\n",
    "\n",
    "Although numbers are primarily processed with expressions, built-ins, and modules,\n",
    "they also have a handful of type-specific methods today, which we’ll meet in this chapter\n",
    "as well."
   ]
  },
  {
   "cell_type": "markdown",
   "id": "0b96ac25",
   "metadata": {},
   "source": [
    "## Python Expression Operators\n",
    "\n",
    "Perhaps the most fundamental tool that processes numbers is the expression: a combination\n",
    "of numbers (or other objects) and operators that computes a value when executed\n",
    "by Python."
   ]
  },
  {
   "cell_type": "markdown",
   "id": "95572895",
   "metadata": {},
   "source": [
    "#### Operators: Description\n",
    "\n",
    "yield x: Generator function send protocol\n",
    "\n",
    "lambda args: expression Anonymous function generation\n",
    "\n",
    "x if y else z: Ternary selection (x is evaluated only if y is true)\n",
    "\n",
    "x or y: Logical OR (y is evaluated only if x is false)\n",
    "\n",
    "x and y: Logical AND (y is evaluated only if x is true)\n",
    "\n",
    "not x:  Logical negation\n",
    "\n",
    "x in y, x not in y: Membership (iterables, sets)\n",
    "\n",
    "x is y, x is not y: Object identity tests\n",
    "\n",
    "x < y, x <= y, x > y, x >= y: Magnitude comparison, set subset and superset;\n",
    "\n",
    "x == y, x != y: Value equality operators\n",
    "\n",
    "x | y: Bitwise OR, set union\n",
    "\n",
    "x ^ y: Bitwise XOR, set symmetric difference\n",
    "\n",
    "x & y: Bitwise AND, set intersection\n",
    "\n",
    "x << y, x >> y: Shift x left or right by y bits\n",
    "\n",
    "x + y: Addition, concatenation;\n",
    "\n",
    "x – y: Subtraction, set difference\n",
    "\n",
    "x * y: Multiplication, repetition;\n",
    "\n",
    "x % y: Remainder, format;\n",
    "\n",
    "x / y, x // y: Division: true and floor\n",
    "\n",
    "−x, +x: Negation, identity\n",
    "\n",
    "˜x: Bitwise NOT (inversion)\n",
    "\n",
    "x ** y: Power (exponentiation)\n",
    "\n",
    "x[i]: Indexing (sequence, mapping, others)\n",
    "\n",
    "x[i:j:k]: Slicing\n",
    "\n",
    "x(...): Call (function, method, class, other callable)\n",
    "\n",
    "x.attr: Attribute reference\n",
    "\n",
    "(...): Tuple, expression, generator expression\n",
    "\n",
    "[...]: List, list comprehension\n",
    "\n",
    "{...}: Dictionary, set, set and dictionary comprehensions"
   ]
  },
  {
   "cell_type": "markdown",
   "id": "7ac1001b",
   "metadata": {},
   "source": [
    "## Mixed operators follow operator precedence\n",
    "\n",
    "When you write an expression with more than one\n",
    "operator, Python groups its parts according to what are called precedence rules, and\n",
    "this grouping determines the order in which the expression’s parts are computed.\n",
    "\n",
    "For example, if you write X + Y * Z, Python evaluates the multiplication first (Y *\n",
    "Z), then adds that result to X because * has higher precedence than +."
   ]
  },
  {
   "cell_type": "markdown",
   "id": "6eea9a6f",
   "metadata": {},
   "source": [
    "### Parentheses group subexpressions\n",
    "\n",
    "When you enclose subexpressions in parentheses, you override\n",
    "Python’s precedence rules; Python always evaluates expressions in parentheses first\n",
    "before using their results in the enclosing expressions.\n",
    "\n",
    "For instance, instead of coding X + Y * Z, you could write one of the following to force\n",
    "Python to evaluate the expression in the desired order:\n",
    "\n",
    "(X + Y) * Z"
   ]
  },
  {
   "cell_type": "markdown",
   "id": "2b39dbba",
   "metadata": {},
   "source": [
    "### Mixed types are converted up\n",
    "\n",
    "Python ranks the complexity of numeric types like so: integers are simpler than floatingpoint\n",
    "numbers, which are simpler than complex numbers. So, when an integer is mixed\n",
    "with a floating point, as in the preceding example, the integer is converted up to a\n",
    "floating-point value first, and floating-point math yields the floating-point result:"
   ]
  },
  {
   "cell_type": "code",
   "execution_count": 1,
   "id": "a9d848ee",
   "metadata": {},
   "outputs": [
    {
     "data": {
      "text/plain": [
       "43.14"
      ]
     },
     "execution_count": 1,
     "metadata": {},
     "output_type": "execute_result"
    }
   ],
   "source": [
    "40 + 3.14 # Integer to float, float math/result"
   ]
  },
  {
   "cell_type": "code",
   "execution_count": 2,
   "id": "78d674aa",
   "metadata": {},
   "outputs": [
    {
     "data": {
      "text/plain": [
       "3"
      ]
     },
     "execution_count": 2,
     "metadata": {},
     "output_type": "execute_result"
    }
   ],
   "source": [
    "# You can force the issue by calling built-in functions to convert types manually:\n",
    "\n",
    "int(3.1415) # Truncates float to integer"
   ]
  },
  {
   "cell_type": "code",
   "execution_count": 3,
   "id": "578c1dc5",
   "metadata": {},
   "outputs": [
    {
     "data": {
      "text/plain": [
       "3.0"
      ]
     },
     "execution_count": 3,
     "metadata": {},
     "output_type": "execute_result"
    }
   ],
   "source": [
    "float(3) # Converts integer to float"
   ]
  },
  {
   "cell_type": "markdown",
   "id": "996dcd04",
   "metadata": {},
   "source": [
    "### Preview: Operator overloading and polymorphism\n",
    "\n",
    "Furthermore, Python itself automatically overloads some operators, such that they\n",
    "perform different actions depending on the type of built-in objects being processed.\n",
    "For example, the\n",
    "operator performs addition when applied to numbers but performs\n",
    "+\n",
    "concatenation when applied to sequence objects such as strings and lists. In fact,\n",
    "can\n",
    "+\n",
    "mean anything at all when applied to objects you define with classes."
   ]
  }
 ],
 "metadata": {
  "kernelspec": {
   "display_name": "Python 3 (ipykernel)",
   "language": "python",
   "name": "python3"
  },
  "language_info": {
   "codemirror_mode": {
    "name": "ipython",
    "version": 3
   },
   "file_extension": ".py",
   "mimetype": "text/x-python",
   "name": "python",
   "nbconvert_exporter": "python",
   "pygments_lexer": "ipython3",
   "version": "3.9.7"
  }
 },
 "nbformat": 4,
 "nbformat_minor": 5
}
